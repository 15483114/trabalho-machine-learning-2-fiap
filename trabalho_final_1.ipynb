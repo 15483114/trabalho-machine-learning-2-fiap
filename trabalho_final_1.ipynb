{
  "nbformat": 4,
  "nbformat_minor": 0,
  "metadata": {
    "colab": {
      "provenance": [],
      "toc_visible": true,
      "mount_file_id": "1j2ioYZFeRfmoGAhCCpITimBZqMPEqypH",
      "authorship_tag": "ABX9TyPxOT0sZN0mUm+oZgkiLN/p",
      "include_colab_link": true
    },
    "kernelspec": {
      "name": "python3",
      "display_name": "Python 3"
    },
    "language_info": {
      "name": "python"
    }
  },
  "cells": [
    {
      "cell_type": "markdown",
      "metadata": {
        "id": "view-in-github",
        "colab_type": "text"
      },
      "source": [
        "<a href=\"https://colab.research.google.com/github/15483114/trabalho-machine-learning-2-fiap/blob/main/trabalho_final_1.ipynb\" target=\"_parent\"><img src=\"https://colab.research.google.com/assets/colab-badge.svg\" alt=\"Open In Colab\"/></a>"
      ]
    },
    {
      "cell_type": "markdown",
      "source": [
        "Objetivo: criar um pipeline de modelos de regressão e retornar o modelo\n",
        "com menor valor de RMSE.\n",
        "\n",
        "O valor tem que ser menor que 55000.\n",
        "Descrição: Utilizando o dataset housing (em anexo), treine os Random\n",
        "Forest, XGBoost e LightGBM.\n",
        "\n",
        "Use a função o GridSearchCV para obter os\n",
        "melhores parâmetros no conjunto de treino (80%). Otimize apenas\n",
        "parâmetros em comum entre os três algoritmos.\n",
        "\n",
        "Use o modelo, e respectivos\n",
        "parâmetros, que retorna o menor valor de RMSE para o conjunto de teste\n",
        "(aqui o resultado de RMSE deve ser menor que 55000).\n",
        "Composição da nota:\n",
        "- 50% - correta implementação do pipeline e otimização dos modelos.\n",
        "- 50% - Baseado na performance do conjunto de teste (<55000)\n",
        "Orientações gerais:\n",
        "• Deixe o jupyter notebook executado com os resultados aparentes\n",
        "• Suba o arquivo compactado em formato zip."
      ],
      "metadata": {
        "id": "FXMZ5AMQw9rE"
      }
    },
    {
      "cell_type": "markdown",
      "source": [
        "# **Importando dataset**"
      ],
      "metadata": {
        "id": "yO6eWrz-m6at"
      }
    },
    {
      "cell_type": "code",
      "execution_count": null,
      "metadata": {
        "id": "51Ke08HO-dNU"
      },
      "outputs": [],
      "source": [
        "import pandas as pd\n",
        "\n",
        "# caminho da Isa\n",
        "\n",
        "df = pd.read_csv('/content/drive/MyDrive/FIAP/homofóbicos e henrique/machine learning 2/housing.csv')"
      ]
    },
    {
      "cell_type": "code",
      "source": [
        "df"
      ],
      "metadata": {
        "colab": {
          "base_uri": "https://localhost:8080/",
          "height": 423
        },
        "id": "UIRUhp-a-j55",
        "outputId": "550c9223-85f2-4e53-f0b6-4c5e5337bf83"
      },
      "execution_count": null,
      "outputs": [
        {
          "output_type": "execute_result",
          "data": {
            "text/plain": [
              "       longitude  latitude  housing_median_age  total_rooms  total_bedrooms  \\\n",
              "0        -122.23     37.88                41.0        880.0           129.0   \n",
              "1        -122.22     37.86                21.0       7099.0          1106.0   \n",
              "2        -122.24     37.85                52.0       1467.0           190.0   \n",
              "3        -122.25     37.85                52.0       1274.0           235.0   \n",
              "4        -122.25     37.85                52.0       1627.0           280.0   \n",
              "...          ...       ...                 ...          ...             ...   \n",
              "20635    -121.09     39.48                25.0       1665.0           374.0   \n",
              "20636    -121.21     39.49                18.0        697.0           150.0   \n",
              "20637    -121.22     39.43                17.0       2254.0           485.0   \n",
              "20638    -121.32     39.43                18.0       1860.0           409.0   \n",
              "20639    -121.24     39.37                16.0       2785.0           616.0   \n",
              "\n",
              "       population  households  median_income  median_house_value  \\\n",
              "0           322.0       126.0         8.3252            452600.0   \n",
              "1          2401.0      1138.0         8.3014            358500.0   \n",
              "2           496.0       177.0         7.2574            352100.0   \n",
              "3           558.0       219.0         5.6431            341300.0   \n",
              "4           565.0       259.0         3.8462            342200.0   \n",
              "...           ...         ...            ...                 ...   \n",
              "20635       845.0       330.0         1.5603             78100.0   \n",
              "20636       356.0       114.0         2.5568             77100.0   \n",
              "20637      1007.0       433.0         1.7000             92300.0   \n",
              "20638       741.0       349.0         1.8672             84700.0   \n",
              "20639      1387.0       530.0         2.3886             89400.0   \n",
              "\n",
              "      ocean_proximity  \n",
              "0            NEAR BAY  \n",
              "1            NEAR BAY  \n",
              "2            NEAR BAY  \n",
              "3            NEAR BAY  \n",
              "4            NEAR BAY  \n",
              "...               ...  \n",
              "20635          INLAND  \n",
              "20636          INLAND  \n",
              "20637          INLAND  \n",
              "20638          INLAND  \n",
              "20639          INLAND  \n",
              "\n",
              "[20640 rows x 10 columns]"
            ],
            "text/html": [
              "\n",
              "  <div id=\"df-6599aa63-b4ab-4bc4-b8d3-1bcbe3f17eb4\">\n",
              "    <div class=\"colab-df-container\">\n",
              "      <div>\n",
              "<style scoped>\n",
              "    .dataframe tbody tr th:only-of-type {\n",
              "        vertical-align: middle;\n",
              "    }\n",
              "\n",
              "    .dataframe tbody tr th {\n",
              "        vertical-align: top;\n",
              "    }\n",
              "\n",
              "    .dataframe thead th {\n",
              "        text-align: right;\n",
              "    }\n",
              "</style>\n",
              "<table border=\"1\" class=\"dataframe\">\n",
              "  <thead>\n",
              "    <tr style=\"text-align: right;\">\n",
              "      <th></th>\n",
              "      <th>longitude</th>\n",
              "      <th>latitude</th>\n",
              "      <th>housing_median_age</th>\n",
              "      <th>total_rooms</th>\n",
              "      <th>total_bedrooms</th>\n",
              "      <th>population</th>\n",
              "      <th>households</th>\n",
              "      <th>median_income</th>\n",
              "      <th>median_house_value</th>\n",
              "      <th>ocean_proximity</th>\n",
              "    </tr>\n",
              "  </thead>\n",
              "  <tbody>\n",
              "    <tr>\n",
              "      <th>0</th>\n",
              "      <td>-122.23</td>\n",
              "      <td>37.88</td>\n",
              "      <td>41.0</td>\n",
              "      <td>880.0</td>\n",
              "      <td>129.0</td>\n",
              "      <td>322.0</td>\n",
              "      <td>126.0</td>\n",
              "      <td>8.3252</td>\n",
              "      <td>452600.0</td>\n",
              "      <td>NEAR BAY</td>\n",
              "    </tr>\n",
              "    <tr>\n",
              "      <th>1</th>\n",
              "      <td>-122.22</td>\n",
              "      <td>37.86</td>\n",
              "      <td>21.0</td>\n",
              "      <td>7099.0</td>\n",
              "      <td>1106.0</td>\n",
              "      <td>2401.0</td>\n",
              "      <td>1138.0</td>\n",
              "      <td>8.3014</td>\n",
              "      <td>358500.0</td>\n",
              "      <td>NEAR BAY</td>\n",
              "    </tr>\n",
              "    <tr>\n",
              "      <th>2</th>\n",
              "      <td>-122.24</td>\n",
              "      <td>37.85</td>\n",
              "      <td>52.0</td>\n",
              "      <td>1467.0</td>\n",
              "      <td>190.0</td>\n",
              "      <td>496.0</td>\n",
              "      <td>177.0</td>\n",
              "      <td>7.2574</td>\n",
              "      <td>352100.0</td>\n",
              "      <td>NEAR BAY</td>\n",
              "    </tr>\n",
              "    <tr>\n",
              "      <th>3</th>\n",
              "      <td>-122.25</td>\n",
              "      <td>37.85</td>\n",
              "      <td>52.0</td>\n",
              "      <td>1274.0</td>\n",
              "      <td>235.0</td>\n",
              "      <td>558.0</td>\n",
              "      <td>219.0</td>\n",
              "      <td>5.6431</td>\n",
              "      <td>341300.0</td>\n",
              "      <td>NEAR BAY</td>\n",
              "    </tr>\n",
              "    <tr>\n",
              "      <th>4</th>\n",
              "      <td>-122.25</td>\n",
              "      <td>37.85</td>\n",
              "      <td>52.0</td>\n",
              "      <td>1627.0</td>\n",
              "      <td>280.0</td>\n",
              "      <td>565.0</td>\n",
              "      <td>259.0</td>\n",
              "      <td>3.8462</td>\n",
              "      <td>342200.0</td>\n",
              "      <td>NEAR BAY</td>\n",
              "    </tr>\n",
              "    <tr>\n",
              "      <th>...</th>\n",
              "      <td>...</td>\n",
              "      <td>...</td>\n",
              "      <td>...</td>\n",
              "      <td>...</td>\n",
              "      <td>...</td>\n",
              "      <td>...</td>\n",
              "      <td>...</td>\n",
              "      <td>...</td>\n",
              "      <td>...</td>\n",
              "      <td>...</td>\n",
              "    </tr>\n",
              "    <tr>\n",
              "      <th>20635</th>\n",
              "      <td>-121.09</td>\n",
              "      <td>39.48</td>\n",
              "      <td>25.0</td>\n",
              "      <td>1665.0</td>\n",
              "      <td>374.0</td>\n",
              "      <td>845.0</td>\n",
              "      <td>330.0</td>\n",
              "      <td>1.5603</td>\n",
              "      <td>78100.0</td>\n",
              "      <td>INLAND</td>\n",
              "    </tr>\n",
              "    <tr>\n",
              "      <th>20636</th>\n",
              "      <td>-121.21</td>\n",
              "      <td>39.49</td>\n",
              "      <td>18.0</td>\n",
              "      <td>697.0</td>\n",
              "      <td>150.0</td>\n",
              "      <td>356.0</td>\n",
              "      <td>114.0</td>\n",
              "      <td>2.5568</td>\n",
              "      <td>77100.0</td>\n",
              "      <td>INLAND</td>\n",
              "    </tr>\n",
              "    <tr>\n",
              "      <th>20637</th>\n",
              "      <td>-121.22</td>\n",
              "      <td>39.43</td>\n",
              "      <td>17.0</td>\n",
              "      <td>2254.0</td>\n",
              "      <td>485.0</td>\n",
              "      <td>1007.0</td>\n",
              "      <td>433.0</td>\n",
              "      <td>1.7000</td>\n",
              "      <td>92300.0</td>\n",
              "      <td>INLAND</td>\n",
              "    </tr>\n",
              "    <tr>\n",
              "      <th>20638</th>\n",
              "      <td>-121.32</td>\n",
              "      <td>39.43</td>\n",
              "      <td>18.0</td>\n",
              "      <td>1860.0</td>\n",
              "      <td>409.0</td>\n",
              "      <td>741.0</td>\n",
              "      <td>349.0</td>\n",
              "      <td>1.8672</td>\n",
              "      <td>84700.0</td>\n",
              "      <td>INLAND</td>\n",
              "    </tr>\n",
              "    <tr>\n",
              "      <th>20639</th>\n",
              "      <td>-121.24</td>\n",
              "      <td>39.37</td>\n",
              "      <td>16.0</td>\n",
              "      <td>2785.0</td>\n",
              "      <td>616.0</td>\n",
              "      <td>1387.0</td>\n",
              "      <td>530.0</td>\n",
              "      <td>2.3886</td>\n",
              "      <td>89400.0</td>\n",
              "      <td>INLAND</td>\n",
              "    </tr>\n",
              "  </tbody>\n",
              "</table>\n",
              "<p>20640 rows × 10 columns</p>\n",
              "</div>\n",
              "      <button class=\"colab-df-convert\" onclick=\"convertToInteractive('df-6599aa63-b4ab-4bc4-b8d3-1bcbe3f17eb4')\"\n",
              "              title=\"Convert this dataframe to an interactive table.\"\n",
              "              style=\"display:none;\">\n",
              "        \n",
              "  <svg xmlns=\"http://www.w3.org/2000/svg\" height=\"24px\"viewBox=\"0 0 24 24\"\n",
              "       width=\"24px\">\n",
              "    <path d=\"M0 0h24v24H0V0z\" fill=\"none\"/>\n",
              "    <path d=\"M18.56 5.44l.94 2.06.94-2.06 2.06-.94-2.06-.94-.94-2.06-.94 2.06-2.06.94zm-11 1L8.5 8.5l.94-2.06 2.06-.94-2.06-.94L8.5 2.5l-.94 2.06-2.06.94zm10 10l.94 2.06.94-2.06 2.06-.94-2.06-.94-.94-2.06-.94 2.06-2.06.94z\"/><path d=\"M17.41 7.96l-1.37-1.37c-.4-.4-.92-.59-1.43-.59-.52 0-1.04.2-1.43.59L10.3 9.45l-7.72 7.72c-.78.78-.78 2.05 0 2.83L4 21.41c.39.39.9.59 1.41.59.51 0 1.02-.2 1.41-.59l7.78-7.78 2.81-2.81c.8-.78.8-2.07 0-2.86zM5.41 20L4 18.59l7.72-7.72 1.47 1.35L5.41 20z\"/>\n",
              "  </svg>\n",
              "      </button>\n",
              "      \n",
              "  <style>\n",
              "    .colab-df-container {\n",
              "      display:flex;\n",
              "      flex-wrap:wrap;\n",
              "      gap: 12px;\n",
              "    }\n",
              "\n",
              "    .colab-df-convert {\n",
              "      background-color: #E8F0FE;\n",
              "      border: none;\n",
              "      border-radius: 50%;\n",
              "      cursor: pointer;\n",
              "      display: none;\n",
              "      fill: #1967D2;\n",
              "      height: 32px;\n",
              "      padding: 0 0 0 0;\n",
              "      width: 32px;\n",
              "    }\n",
              "\n",
              "    .colab-df-convert:hover {\n",
              "      background-color: #E2EBFA;\n",
              "      box-shadow: 0px 1px 2px rgba(60, 64, 67, 0.3), 0px 1px 3px 1px rgba(60, 64, 67, 0.15);\n",
              "      fill: #174EA6;\n",
              "    }\n",
              "\n",
              "    [theme=dark] .colab-df-convert {\n",
              "      background-color: #3B4455;\n",
              "      fill: #D2E3FC;\n",
              "    }\n",
              "\n",
              "    [theme=dark] .colab-df-convert:hover {\n",
              "      background-color: #434B5C;\n",
              "      box-shadow: 0px 1px 3px 1px rgba(0, 0, 0, 0.15);\n",
              "      filter: drop-shadow(0px 1px 2px rgba(0, 0, 0, 0.3));\n",
              "      fill: #FFFFFF;\n",
              "    }\n",
              "  </style>\n",
              "\n",
              "      <script>\n",
              "        const buttonEl =\n",
              "          document.querySelector('#df-6599aa63-b4ab-4bc4-b8d3-1bcbe3f17eb4 button.colab-df-convert');\n",
              "        buttonEl.style.display =\n",
              "          google.colab.kernel.accessAllowed ? 'block' : 'none';\n",
              "\n",
              "        async function convertToInteractive(key) {\n",
              "          const element = document.querySelector('#df-6599aa63-b4ab-4bc4-b8d3-1bcbe3f17eb4');\n",
              "          const dataTable =\n",
              "            await google.colab.kernel.invokeFunction('convertToInteractive',\n",
              "                                                     [key], {});\n",
              "          if (!dataTable) return;\n",
              "\n",
              "          const docLinkHtml = 'Like what you see? Visit the ' +\n",
              "            '<a target=\"_blank\" href=https://colab.research.google.com/notebooks/data_table.ipynb>data table notebook</a>'\n",
              "            + ' to learn more about interactive tables.';\n",
              "          element.innerHTML = '';\n",
              "          dataTable['output_type'] = 'display_data';\n",
              "          await google.colab.output.renderOutput(dataTable, element);\n",
              "          const docLink = document.createElement('div');\n",
              "          docLink.innerHTML = docLinkHtml;\n",
              "          element.appendChild(docLink);\n",
              "        }\n",
              "      </script>\n",
              "    </div>\n",
              "  </div>\n",
              "  "
            ]
          },
          "metadata": {},
          "execution_count": 77
        }
      ]
    },
    {
      "cell_type": "code",
      "source": [
        "df.info()"
      ],
      "metadata": {
        "colab": {
          "base_uri": "https://localhost:8080/"
        },
        "id": "Qci6JDzgneFu",
        "outputId": "f445359e-8306-4b3d-86c4-10f5eba28574"
      },
      "execution_count": null,
      "outputs": [
        {
          "output_type": "stream",
          "name": "stdout",
          "text": [
            "<class 'pandas.core.frame.DataFrame'>\n",
            "RangeIndex: 20640 entries, 0 to 20639\n",
            "Data columns (total 10 columns):\n",
            " #   Column              Non-Null Count  Dtype  \n",
            "---  ------              --------------  -----  \n",
            " 0   longitude           20640 non-null  float64\n",
            " 1   latitude            20640 non-null  float64\n",
            " 2   housing_median_age  20640 non-null  float64\n",
            " 3   total_rooms         20640 non-null  float64\n",
            " 4   total_bedrooms      20433 non-null  float64\n",
            " 5   population          20640 non-null  float64\n",
            " 6   households          20640 non-null  float64\n",
            " 7   median_income       20640 non-null  float64\n",
            " 8   median_house_value  20640 non-null  float64\n",
            " 9   ocean_proximity     20640 non-null  object \n",
            "dtypes: float64(9), object(1)\n",
            "memory usage: 1.6+ MB\n"
          ]
        }
      ]
    },
    {
      "cell_type": "code",
      "source": [
        "df.describe()"
      ],
      "metadata": {
        "colab": {
          "base_uri": "https://localhost:8080/",
          "height": 300
        },
        "id": "I8lAdnisYvmP",
        "outputId": "9617ffde-0422-45e3-ee52-d8cdda804438"
      },
      "execution_count": null,
      "outputs": [
        {
          "output_type": "execute_result",
          "data": {
            "text/plain": [
              "          longitude      latitude  housing_median_age   total_rooms  \\\n",
              "count  20640.000000  20640.000000        20640.000000  20640.000000   \n",
              "mean    -119.569704     35.631861           28.639486   2635.763081   \n",
              "std        2.003532      2.135952           12.585558   2181.615252   \n",
              "min     -124.350000     32.540000            1.000000      2.000000   \n",
              "25%     -121.800000     33.930000           18.000000   1447.750000   \n",
              "50%     -118.490000     34.260000           29.000000   2127.000000   \n",
              "75%     -118.010000     37.710000           37.000000   3148.000000   \n",
              "max     -114.310000     41.950000           52.000000  39320.000000   \n",
              "\n",
              "       total_bedrooms    population    households  median_income  \\\n",
              "count    20433.000000  20640.000000  20640.000000   20640.000000   \n",
              "mean       537.870553   1425.476744    499.539680       3.870671   \n",
              "std        421.385070   1132.462122    382.329753       1.899822   \n",
              "min          1.000000      3.000000      1.000000       0.499900   \n",
              "25%        296.000000    787.000000    280.000000       2.563400   \n",
              "50%        435.000000   1166.000000    409.000000       3.534800   \n",
              "75%        647.000000   1725.000000    605.000000       4.743250   \n",
              "max       6445.000000  35682.000000   6082.000000      15.000100   \n",
              "\n",
              "       median_house_value  \n",
              "count        20640.000000  \n",
              "mean        206855.816909  \n",
              "std         115395.615874  \n",
              "min          14999.000000  \n",
              "25%         119600.000000  \n",
              "50%         179700.000000  \n",
              "75%         264725.000000  \n",
              "max         500001.000000  "
            ],
            "text/html": [
              "\n",
              "  <div id=\"df-c418c941-8034-4431-b0cf-e62640a84c4e\">\n",
              "    <div class=\"colab-df-container\">\n",
              "      <div>\n",
              "<style scoped>\n",
              "    .dataframe tbody tr th:only-of-type {\n",
              "        vertical-align: middle;\n",
              "    }\n",
              "\n",
              "    .dataframe tbody tr th {\n",
              "        vertical-align: top;\n",
              "    }\n",
              "\n",
              "    .dataframe thead th {\n",
              "        text-align: right;\n",
              "    }\n",
              "</style>\n",
              "<table border=\"1\" class=\"dataframe\">\n",
              "  <thead>\n",
              "    <tr style=\"text-align: right;\">\n",
              "      <th></th>\n",
              "      <th>longitude</th>\n",
              "      <th>latitude</th>\n",
              "      <th>housing_median_age</th>\n",
              "      <th>total_rooms</th>\n",
              "      <th>total_bedrooms</th>\n",
              "      <th>population</th>\n",
              "      <th>households</th>\n",
              "      <th>median_income</th>\n",
              "      <th>median_house_value</th>\n",
              "    </tr>\n",
              "  </thead>\n",
              "  <tbody>\n",
              "    <tr>\n",
              "      <th>count</th>\n",
              "      <td>20640.000000</td>\n",
              "      <td>20640.000000</td>\n",
              "      <td>20640.000000</td>\n",
              "      <td>20640.000000</td>\n",
              "      <td>20433.000000</td>\n",
              "      <td>20640.000000</td>\n",
              "      <td>20640.000000</td>\n",
              "      <td>20640.000000</td>\n",
              "      <td>20640.000000</td>\n",
              "    </tr>\n",
              "    <tr>\n",
              "      <th>mean</th>\n",
              "      <td>-119.569704</td>\n",
              "      <td>35.631861</td>\n",
              "      <td>28.639486</td>\n",
              "      <td>2635.763081</td>\n",
              "      <td>537.870553</td>\n",
              "      <td>1425.476744</td>\n",
              "      <td>499.539680</td>\n",
              "      <td>3.870671</td>\n",
              "      <td>206855.816909</td>\n",
              "    </tr>\n",
              "    <tr>\n",
              "      <th>std</th>\n",
              "      <td>2.003532</td>\n",
              "      <td>2.135952</td>\n",
              "      <td>12.585558</td>\n",
              "      <td>2181.615252</td>\n",
              "      <td>421.385070</td>\n",
              "      <td>1132.462122</td>\n",
              "      <td>382.329753</td>\n",
              "      <td>1.899822</td>\n",
              "      <td>115395.615874</td>\n",
              "    </tr>\n",
              "    <tr>\n",
              "      <th>min</th>\n",
              "      <td>-124.350000</td>\n",
              "      <td>32.540000</td>\n",
              "      <td>1.000000</td>\n",
              "      <td>2.000000</td>\n",
              "      <td>1.000000</td>\n",
              "      <td>3.000000</td>\n",
              "      <td>1.000000</td>\n",
              "      <td>0.499900</td>\n",
              "      <td>14999.000000</td>\n",
              "    </tr>\n",
              "    <tr>\n",
              "      <th>25%</th>\n",
              "      <td>-121.800000</td>\n",
              "      <td>33.930000</td>\n",
              "      <td>18.000000</td>\n",
              "      <td>1447.750000</td>\n",
              "      <td>296.000000</td>\n",
              "      <td>787.000000</td>\n",
              "      <td>280.000000</td>\n",
              "      <td>2.563400</td>\n",
              "      <td>119600.000000</td>\n",
              "    </tr>\n",
              "    <tr>\n",
              "      <th>50%</th>\n",
              "      <td>-118.490000</td>\n",
              "      <td>34.260000</td>\n",
              "      <td>29.000000</td>\n",
              "      <td>2127.000000</td>\n",
              "      <td>435.000000</td>\n",
              "      <td>1166.000000</td>\n",
              "      <td>409.000000</td>\n",
              "      <td>3.534800</td>\n",
              "      <td>179700.000000</td>\n",
              "    </tr>\n",
              "    <tr>\n",
              "      <th>75%</th>\n",
              "      <td>-118.010000</td>\n",
              "      <td>37.710000</td>\n",
              "      <td>37.000000</td>\n",
              "      <td>3148.000000</td>\n",
              "      <td>647.000000</td>\n",
              "      <td>1725.000000</td>\n",
              "      <td>605.000000</td>\n",
              "      <td>4.743250</td>\n",
              "      <td>264725.000000</td>\n",
              "    </tr>\n",
              "    <tr>\n",
              "      <th>max</th>\n",
              "      <td>-114.310000</td>\n",
              "      <td>41.950000</td>\n",
              "      <td>52.000000</td>\n",
              "      <td>39320.000000</td>\n",
              "      <td>6445.000000</td>\n",
              "      <td>35682.000000</td>\n",
              "      <td>6082.000000</td>\n",
              "      <td>15.000100</td>\n",
              "      <td>500001.000000</td>\n",
              "    </tr>\n",
              "  </tbody>\n",
              "</table>\n",
              "</div>\n",
              "      <button class=\"colab-df-convert\" onclick=\"convertToInteractive('df-c418c941-8034-4431-b0cf-e62640a84c4e')\"\n",
              "              title=\"Convert this dataframe to an interactive table.\"\n",
              "              style=\"display:none;\">\n",
              "        \n",
              "  <svg xmlns=\"http://www.w3.org/2000/svg\" height=\"24px\"viewBox=\"0 0 24 24\"\n",
              "       width=\"24px\">\n",
              "    <path d=\"M0 0h24v24H0V0z\" fill=\"none\"/>\n",
              "    <path d=\"M18.56 5.44l.94 2.06.94-2.06 2.06-.94-2.06-.94-.94-2.06-.94 2.06-2.06.94zm-11 1L8.5 8.5l.94-2.06 2.06-.94-2.06-.94L8.5 2.5l-.94 2.06-2.06.94zm10 10l.94 2.06.94-2.06 2.06-.94-2.06-.94-.94-2.06-.94 2.06-2.06.94z\"/><path d=\"M17.41 7.96l-1.37-1.37c-.4-.4-.92-.59-1.43-.59-.52 0-1.04.2-1.43.59L10.3 9.45l-7.72 7.72c-.78.78-.78 2.05 0 2.83L4 21.41c.39.39.9.59 1.41.59.51 0 1.02-.2 1.41-.59l7.78-7.78 2.81-2.81c.8-.78.8-2.07 0-2.86zM5.41 20L4 18.59l7.72-7.72 1.47 1.35L5.41 20z\"/>\n",
              "  </svg>\n",
              "      </button>\n",
              "      \n",
              "  <style>\n",
              "    .colab-df-container {\n",
              "      display:flex;\n",
              "      flex-wrap:wrap;\n",
              "      gap: 12px;\n",
              "    }\n",
              "\n",
              "    .colab-df-convert {\n",
              "      background-color: #E8F0FE;\n",
              "      border: none;\n",
              "      border-radius: 50%;\n",
              "      cursor: pointer;\n",
              "      display: none;\n",
              "      fill: #1967D2;\n",
              "      height: 32px;\n",
              "      padding: 0 0 0 0;\n",
              "      width: 32px;\n",
              "    }\n",
              "\n",
              "    .colab-df-convert:hover {\n",
              "      background-color: #E2EBFA;\n",
              "      box-shadow: 0px 1px 2px rgba(60, 64, 67, 0.3), 0px 1px 3px 1px rgba(60, 64, 67, 0.15);\n",
              "      fill: #174EA6;\n",
              "    }\n",
              "\n",
              "    [theme=dark] .colab-df-convert {\n",
              "      background-color: #3B4455;\n",
              "      fill: #D2E3FC;\n",
              "    }\n",
              "\n",
              "    [theme=dark] .colab-df-convert:hover {\n",
              "      background-color: #434B5C;\n",
              "      box-shadow: 0px 1px 3px 1px rgba(0, 0, 0, 0.15);\n",
              "      filter: drop-shadow(0px 1px 2px rgba(0, 0, 0, 0.3));\n",
              "      fill: #FFFFFF;\n",
              "    }\n",
              "  </style>\n",
              "\n",
              "      <script>\n",
              "        const buttonEl =\n",
              "          document.querySelector('#df-c418c941-8034-4431-b0cf-e62640a84c4e button.colab-df-convert');\n",
              "        buttonEl.style.display =\n",
              "          google.colab.kernel.accessAllowed ? 'block' : 'none';\n",
              "\n",
              "        async function convertToInteractive(key) {\n",
              "          const element = document.querySelector('#df-c418c941-8034-4431-b0cf-e62640a84c4e');\n",
              "          const dataTable =\n",
              "            await google.colab.kernel.invokeFunction('convertToInteractive',\n",
              "                                                     [key], {});\n",
              "          if (!dataTable) return;\n",
              "\n",
              "          const docLinkHtml = 'Like what you see? Visit the ' +\n",
              "            '<a target=\"_blank\" href=https://colab.research.google.com/notebooks/data_table.ipynb>data table notebook</a>'\n",
              "            + ' to learn more about interactive tables.';\n",
              "          element.innerHTML = '';\n",
              "          dataTable['output_type'] = 'display_data';\n",
              "          await google.colab.output.renderOutput(dataTable, element);\n",
              "          const docLink = document.createElement('div');\n",
              "          docLink.innerHTML = docLinkHtml;\n",
              "          element.appendChild(docLink);\n",
              "        }\n",
              "      </script>\n",
              "    </div>\n",
              "  </div>\n",
              "  "
            ]
          },
          "metadata": {},
          "execution_count": 79
        }
      ]
    },
    {
      "cell_type": "code",
      "source": [
        "import plotly.express as px\n",
        "fig = px.imshow(df.corr())\n",
        "fig.show()"
      ],
      "metadata": {
        "colab": {
          "base_uri": "https://localhost:8080/",
          "height": 542
        },
        "id": "0-gsK2vLg0JP",
        "outputId": "103d9f62-83b2-4022-eae3-6bdec43e36fd"
      },
      "execution_count": null,
      "outputs": [
        {
          "output_type": "display_data",
          "data": {
            "text/html": [
              "<html>\n",
              "<head><meta charset=\"utf-8\" /></head>\n",
              "<body>\n",
              "    <div>            <script src=\"https://cdnjs.cloudflare.com/ajax/libs/mathjax/2.7.5/MathJax.js?config=TeX-AMS-MML_SVG\"></script><script type=\"text/javascript\">if (window.MathJax && window.MathJax.Hub && window.MathJax.Hub.Config) {window.MathJax.Hub.Config({SVG: {font: \"STIX-Web\"}});}</script>                <script type=\"text/javascript\">window.PlotlyConfig = {MathJaxConfig: 'local'};</script>\n",
              "        <script src=\"https://cdn.plot.ly/plotly-2.18.2.min.js\"></script>                <div id=\"e3dd2f9c-7404-4f25-aec6-2452febd9241\" class=\"plotly-graph-div\" style=\"height:525px; width:100%;\"></div>            <script type=\"text/javascript\">                                    window.PLOTLYENV=window.PLOTLYENV || {};                                    if (document.getElementById(\"e3dd2f9c-7404-4f25-aec6-2452febd9241\")) {                    Plotly.newPlot(                        \"e3dd2f9c-7404-4f25-aec6-2452febd9241\",                        [{\"coloraxis\":\"coloraxis\",\"name\":\"0\",\"x\":[\"longitude\",\"latitude\",\"housing_median_age\",\"total_rooms\",\"total_bedrooms\",\"population\",\"households\",\"median_income\",\"median_house_value\"],\"y\":[\"longitude\",\"latitude\",\"housing_median_age\",\"total_rooms\",\"total_bedrooms\",\"population\",\"households\",\"median_income\",\"median_house_value\"],\"z\":[[1.0,-0.9246644339150368,-0.10819681311244447,0.044567977716652225,0.06960802175408133,0.09977322287464555,0.055310092782393315,-0.015175865414177295,-0.0459666151179817],[-0.9246644339150368,1.0,0.011172673530611294,-0.03609959585612548,-0.06698283471949555,-0.10878474737766855,-0.07103543319190864,-0.0798091274597217,-0.1441602768746574],[-0.10819681311244447,0.011172673530611294,1.0,-0.3612622012223127,-0.32045104175060396,-0.29624423977353637,-0.3029160093572136,-0.11903398993785673,0.10562341249321065],[0.044567977716652225,-0.03609959585612548,-0.3612622012223127,1.0,0.9303795046865031,0.8571259728659829,0.9184844926543111,0.1980496450846092,0.1341531138065627],[0.06960802175408133,-0.06698283471949555,-0.32045104175060396,0.9303795046865031,1.0,0.8777467431529311,0.9797282708045709,-0.007722849511009086,0.0496861802473462],[0.09977322287464555,-0.10878474737766855,-0.29624423977353637,0.8571259728659829,0.8777467431529311,1.0,0.9072222660959659,0.004834345627653126,-0.024649678888894865],[0.055310092782393315,-0.07103543319190864,-0.3029160093572136,0.9184844926543111,0.9797282708045709,0.9072222660959659,1.0,0.013033052400705658,0.0658426505700564],[-0.015175865414177295,-0.0798091274597217,-0.11903398993785673,0.1980496450846092,-0.007722849511009086,0.004834345627653126,0.013033052400705658,1.0,0.6880752079585577],[-0.0459666151179817,-0.1441602768746574,0.10562341249321065,0.1341531138065627,0.0496861802473462,-0.024649678888894865,0.0658426505700564,0.6880752079585577,1.0]],\"type\":\"heatmap\",\"xaxis\":\"x\",\"yaxis\":\"y\",\"hovertemplate\":\"x: %{x}<br>y: %{y}<br>color: %{z}<extra></extra>\"}],                        {\"template\":{\"data\":{\"histogram2dcontour\":[{\"type\":\"histogram2dcontour\",\"colorbar\":{\"outlinewidth\":0,\"ticks\":\"\"},\"colorscale\":[[0.0,\"#0d0887\"],[0.1111111111111111,\"#46039f\"],[0.2222222222222222,\"#7201a8\"],[0.3333333333333333,\"#9c179e\"],[0.4444444444444444,\"#bd3786\"],[0.5555555555555556,\"#d8576b\"],[0.6666666666666666,\"#ed7953\"],[0.7777777777777778,\"#fb9f3a\"],[0.8888888888888888,\"#fdca26\"],[1.0,\"#f0f921\"]]}],\"choropleth\":[{\"type\":\"choropleth\",\"colorbar\":{\"outlinewidth\":0,\"ticks\":\"\"}}],\"histogram2d\":[{\"type\":\"histogram2d\",\"colorbar\":{\"outlinewidth\":0,\"ticks\":\"\"},\"colorscale\":[[0.0,\"#0d0887\"],[0.1111111111111111,\"#46039f\"],[0.2222222222222222,\"#7201a8\"],[0.3333333333333333,\"#9c179e\"],[0.4444444444444444,\"#bd3786\"],[0.5555555555555556,\"#d8576b\"],[0.6666666666666666,\"#ed7953\"],[0.7777777777777778,\"#fb9f3a\"],[0.8888888888888888,\"#fdca26\"],[1.0,\"#f0f921\"]]}],\"heatmap\":[{\"type\":\"heatmap\",\"colorbar\":{\"outlinewidth\":0,\"ticks\":\"\"},\"colorscale\":[[0.0,\"#0d0887\"],[0.1111111111111111,\"#46039f\"],[0.2222222222222222,\"#7201a8\"],[0.3333333333333333,\"#9c179e\"],[0.4444444444444444,\"#bd3786\"],[0.5555555555555556,\"#d8576b\"],[0.6666666666666666,\"#ed7953\"],[0.7777777777777778,\"#fb9f3a\"],[0.8888888888888888,\"#fdca26\"],[1.0,\"#f0f921\"]]}],\"heatmapgl\":[{\"type\":\"heatmapgl\",\"colorbar\":{\"outlinewidth\":0,\"ticks\":\"\"},\"colorscale\":[[0.0,\"#0d0887\"],[0.1111111111111111,\"#46039f\"],[0.2222222222222222,\"#7201a8\"],[0.3333333333333333,\"#9c179e\"],[0.4444444444444444,\"#bd3786\"],[0.5555555555555556,\"#d8576b\"],[0.6666666666666666,\"#ed7953\"],[0.7777777777777778,\"#fb9f3a\"],[0.8888888888888888,\"#fdca26\"],[1.0,\"#f0f921\"]]}],\"contourcarpet\":[{\"type\":\"contourcarpet\",\"colorbar\":{\"outlinewidth\":0,\"ticks\":\"\"}}],\"contour\":[{\"type\":\"contour\",\"colorbar\":{\"outlinewidth\":0,\"ticks\":\"\"},\"colorscale\":[[0.0,\"#0d0887\"],[0.1111111111111111,\"#46039f\"],[0.2222222222222222,\"#7201a8\"],[0.3333333333333333,\"#9c179e\"],[0.4444444444444444,\"#bd3786\"],[0.5555555555555556,\"#d8576b\"],[0.6666666666666666,\"#ed7953\"],[0.7777777777777778,\"#fb9f3a\"],[0.8888888888888888,\"#fdca26\"],[1.0,\"#f0f921\"]]}],\"surface\":[{\"type\":\"surface\",\"colorbar\":{\"outlinewidth\":0,\"ticks\":\"\"},\"colorscale\":[[0.0,\"#0d0887\"],[0.1111111111111111,\"#46039f\"],[0.2222222222222222,\"#7201a8\"],[0.3333333333333333,\"#9c179e\"],[0.4444444444444444,\"#bd3786\"],[0.5555555555555556,\"#d8576b\"],[0.6666666666666666,\"#ed7953\"],[0.7777777777777778,\"#fb9f3a\"],[0.8888888888888888,\"#fdca26\"],[1.0,\"#f0f921\"]]}],\"mesh3d\":[{\"type\":\"mesh3d\",\"colorbar\":{\"outlinewidth\":0,\"ticks\":\"\"}}],\"scatter\":[{\"fillpattern\":{\"fillmode\":\"overlay\",\"size\":10,\"solidity\":0.2},\"type\":\"scatter\"}],\"parcoords\":[{\"type\":\"parcoords\",\"line\":{\"colorbar\":{\"outlinewidth\":0,\"ticks\":\"\"}}}],\"scatterpolargl\":[{\"type\":\"scatterpolargl\",\"marker\":{\"colorbar\":{\"outlinewidth\":0,\"ticks\":\"\"}}}],\"bar\":[{\"error_x\":{\"color\":\"#2a3f5f\"},\"error_y\":{\"color\":\"#2a3f5f\"},\"marker\":{\"line\":{\"color\":\"#E5ECF6\",\"width\":0.5},\"pattern\":{\"fillmode\":\"overlay\",\"size\":10,\"solidity\":0.2}},\"type\":\"bar\"}],\"scattergeo\":[{\"type\":\"scattergeo\",\"marker\":{\"colorbar\":{\"outlinewidth\":0,\"ticks\":\"\"}}}],\"scatterpolar\":[{\"type\":\"scatterpolar\",\"marker\":{\"colorbar\":{\"outlinewidth\":0,\"ticks\":\"\"}}}],\"histogram\":[{\"marker\":{\"pattern\":{\"fillmode\":\"overlay\",\"size\":10,\"solidity\":0.2}},\"type\":\"histogram\"}],\"scattergl\":[{\"type\":\"scattergl\",\"marker\":{\"colorbar\":{\"outlinewidth\":0,\"ticks\":\"\"}}}],\"scatter3d\":[{\"type\":\"scatter3d\",\"line\":{\"colorbar\":{\"outlinewidth\":0,\"ticks\":\"\"}},\"marker\":{\"colorbar\":{\"outlinewidth\":0,\"ticks\":\"\"}}}],\"scattermapbox\":[{\"type\":\"scattermapbox\",\"marker\":{\"colorbar\":{\"outlinewidth\":0,\"ticks\":\"\"}}}],\"scatterternary\":[{\"type\":\"scatterternary\",\"marker\":{\"colorbar\":{\"outlinewidth\":0,\"ticks\":\"\"}}}],\"scattercarpet\":[{\"type\":\"scattercarpet\",\"marker\":{\"colorbar\":{\"outlinewidth\":0,\"ticks\":\"\"}}}],\"carpet\":[{\"aaxis\":{\"endlinecolor\":\"#2a3f5f\",\"gridcolor\":\"white\",\"linecolor\":\"white\",\"minorgridcolor\":\"white\",\"startlinecolor\":\"#2a3f5f\"},\"baxis\":{\"endlinecolor\":\"#2a3f5f\",\"gridcolor\":\"white\",\"linecolor\":\"white\",\"minorgridcolor\":\"white\",\"startlinecolor\":\"#2a3f5f\"},\"type\":\"carpet\"}],\"table\":[{\"cells\":{\"fill\":{\"color\":\"#EBF0F8\"},\"line\":{\"color\":\"white\"}},\"header\":{\"fill\":{\"color\":\"#C8D4E3\"},\"line\":{\"color\":\"white\"}},\"type\":\"table\"}],\"barpolar\":[{\"marker\":{\"line\":{\"color\":\"#E5ECF6\",\"width\":0.5},\"pattern\":{\"fillmode\":\"overlay\",\"size\":10,\"solidity\":0.2}},\"type\":\"barpolar\"}],\"pie\":[{\"automargin\":true,\"type\":\"pie\"}]},\"layout\":{\"autotypenumbers\":\"strict\",\"colorway\":[\"#636efa\",\"#EF553B\",\"#00cc96\",\"#ab63fa\",\"#FFA15A\",\"#19d3f3\",\"#FF6692\",\"#B6E880\",\"#FF97FF\",\"#FECB52\"],\"font\":{\"color\":\"#2a3f5f\"},\"hovermode\":\"closest\",\"hoverlabel\":{\"align\":\"left\"},\"paper_bgcolor\":\"white\",\"plot_bgcolor\":\"#E5ECF6\",\"polar\":{\"bgcolor\":\"#E5ECF6\",\"angularaxis\":{\"gridcolor\":\"white\",\"linecolor\":\"white\",\"ticks\":\"\"},\"radialaxis\":{\"gridcolor\":\"white\",\"linecolor\":\"white\",\"ticks\":\"\"}},\"ternary\":{\"bgcolor\":\"#E5ECF6\",\"aaxis\":{\"gridcolor\":\"white\",\"linecolor\":\"white\",\"ticks\":\"\"},\"baxis\":{\"gridcolor\":\"white\",\"linecolor\":\"white\",\"ticks\":\"\"},\"caxis\":{\"gridcolor\":\"white\",\"linecolor\":\"white\",\"ticks\":\"\"}},\"coloraxis\":{\"colorbar\":{\"outlinewidth\":0,\"ticks\":\"\"}},\"colorscale\":{\"sequential\":[[0.0,\"#0d0887\"],[0.1111111111111111,\"#46039f\"],[0.2222222222222222,\"#7201a8\"],[0.3333333333333333,\"#9c179e\"],[0.4444444444444444,\"#bd3786\"],[0.5555555555555556,\"#d8576b\"],[0.6666666666666666,\"#ed7953\"],[0.7777777777777778,\"#fb9f3a\"],[0.8888888888888888,\"#fdca26\"],[1.0,\"#f0f921\"]],\"sequentialminus\":[[0.0,\"#0d0887\"],[0.1111111111111111,\"#46039f\"],[0.2222222222222222,\"#7201a8\"],[0.3333333333333333,\"#9c179e\"],[0.4444444444444444,\"#bd3786\"],[0.5555555555555556,\"#d8576b\"],[0.6666666666666666,\"#ed7953\"],[0.7777777777777778,\"#fb9f3a\"],[0.8888888888888888,\"#fdca26\"],[1.0,\"#f0f921\"]],\"diverging\":[[0,\"#8e0152\"],[0.1,\"#c51b7d\"],[0.2,\"#de77ae\"],[0.3,\"#f1b6da\"],[0.4,\"#fde0ef\"],[0.5,\"#f7f7f7\"],[0.6,\"#e6f5d0\"],[0.7,\"#b8e186\"],[0.8,\"#7fbc41\"],[0.9,\"#4d9221\"],[1,\"#276419\"]]},\"xaxis\":{\"gridcolor\":\"white\",\"linecolor\":\"white\",\"ticks\":\"\",\"title\":{\"standoff\":15},\"zerolinecolor\":\"white\",\"automargin\":true,\"zerolinewidth\":2},\"yaxis\":{\"gridcolor\":\"white\",\"linecolor\":\"white\",\"ticks\":\"\",\"title\":{\"standoff\":15},\"zerolinecolor\":\"white\",\"automargin\":true,\"zerolinewidth\":2},\"scene\":{\"xaxis\":{\"backgroundcolor\":\"#E5ECF6\",\"gridcolor\":\"white\",\"linecolor\":\"white\",\"showbackground\":true,\"ticks\":\"\",\"zerolinecolor\":\"white\",\"gridwidth\":2},\"yaxis\":{\"backgroundcolor\":\"#E5ECF6\",\"gridcolor\":\"white\",\"linecolor\":\"white\",\"showbackground\":true,\"ticks\":\"\",\"zerolinecolor\":\"white\",\"gridwidth\":2},\"zaxis\":{\"backgroundcolor\":\"#E5ECF6\",\"gridcolor\":\"white\",\"linecolor\":\"white\",\"showbackground\":true,\"ticks\":\"\",\"zerolinecolor\":\"white\",\"gridwidth\":2}},\"shapedefaults\":{\"line\":{\"color\":\"#2a3f5f\"}},\"annotationdefaults\":{\"arrowcolor\":\"#2a3f5f\",\"arrowhead\":0,\"arrowwidth\":1},\"geo\":{\"bgcolor\":\"white\",\"landcolor\":\"#E5ECF6\",\"subunitcolor\":\"white\",\"showland\":true,\"showlakes\":true,\"lakecolor\":\"white\"},\"title\":{\"x\":0.05},\"mapbox\":{\"style\":\"light\"}}},\"xaxis\":{\"anchor\":\"y\",\"domain\":[0.0,1.0],\"scaleanchor\":\"y\",\"constrain\":\"domain\"},\"yaxis\":{\"anchor\":\"x\",\"domain\":[0.0,1.0],\"autorange\":\"reversed\",\"constrain\":\"domain\"},\"coloraxis\":{\"colorscale\":[[0.0,\"#0d0887\"],[0.1111111111111111,\"#46039f\"],[0.2222222222222222,\"#7201a8\"],[0.3333333333333333,\"#9c179e\"],[0.4444444444444444,\"#bd3786\"],[0.5555555555555556,\"#d8576b\"],[0.6666666666666666,\"#ed7953\"],[0.7777777777777778,\"#fb9f3a\"],[0.8888888888888888,\"#fdca26\"],[1.0,\"#f0f921\"]]},\"margin\":{\"t\":60}},                        {\"responsive\": true}                    ).then(function(){\n",
              "                            \n",
              "var gd = document.getElementById('e3dd2f9c-7404-4f25-aec6-2452febd9241');\n",
              "var x = new MutationObserver(function (mutations, observer) {{\n",
              "        var display = window.getComputedStyle(gd).display;\n",
              "        if (!display || display === 'none') {{\n",
              "            console.log([gd, 'removed!']);\n",
              "            Plotly.purge(gd);\n",
              "            observer.disconnect();\n",
              "        }}\n",
              "}});\n",
              "\n",
              "// Listen for the removal of the full notebook cells\n",
              "var notebookContainer = gd.closest('#notebook-container');\n",
              "if (notebookContainer) {{\n",
              "    x.observe(notebookContainer, {childList: true});\n",
              "}}\n",
              "\n",
              "// Listen for the clearing of the current output cell\n",
              "var outputEl = gd.closest('.output');\n",
              "if (outputEl) {{\n",
              "    x.observe(outputEl, {childList: true});\n",
              "}}\n",
              "\n",
              "                        })                };                            </script>        </div>\n",
              "</body>\n",
              "</html>"
            ]
          },
          "metadata": {}
        }
      ]
    },
    {
      "cell_type": "markdown",
      "source": [
        "Pela quantidade pequena de variáveis optamos por não usa o PCA para reduzir as dimensionalidade e sim a a matriz de correlação, para evitar perda de informação na criação dos componentes, e aparentemente a maior correlação com a target é de 0.688 da variável median_income.\n",
        "Testamos remover total_bedrooms por ser muito correlacionada com total_rooms mas os resultados não melhoraram então testamos com todas as variáveis."
      ],
      "metadata": {
        "id": "0oG9F4H4xfue"
      }
    },
    {
      "cell_type": "markdown",
      "source": [
        "# **Tratando missings**"
      ],
      "metadata": {
        "id": "fXxc1rBVloV9"
      }
    },
    {
      "cell_type": "code",
      "source": [
        "# Porcentagem de dados faltantes\n",
        "df.isnull().mean().round(4)*100"
      ],
      "metadata": {
        "colab": {
          "base_uri": "https://localhost:8080/"
        },
        "id": "BvpVir2xoG-n",
        "outputId": "7dea8d71-e404-49d2-d036-77b7d8e89b71"
      },
      "execution_count": null,
      "outputs": [
        {
          "output_type": "execute_result",
          "data": {
            "text/plain": [
              "longitude             0.0\n",
              "latitude              0.0\n",
              "housing_median_age    0.0\n",
              "total_rooms           0.0\n",
              "total_bedrooms        1.0\n",
              "population            0.0\n",
              "households            0.0\n",
              "median_income         0.0\n",
              "median_house_value    0.0\n",
              "ocean_proximity       0.0\n",
              "dtype: float64"
            ]
          },
          "metadata": {},
          "execution_count": 14
        }
      ]
    },
    {
      "cell_type": "markdown",
      "source": [
        "Analisando os dados total bedrooms aparentam ser 1/5 do valor de total rooms então vamos preencher os valores faltantes assim"
      ],
      "metadata": {
        "id": "pnOxrmBg3fUs"
      }
    },
    {
      "cell_type": "code",
      "source": [
        "df2 = df\n",
        "df2[\"total_bedrooms\"] = df2[\"total_bedrooms\"].fillna(df2[\"total_rooms\"] / 5)"
      ],
      "metadata": {
        "id": "pcLpXzIHqbW4"
      },
      "execution_count": null,
      "outputs": []
    },
    {
      "cell_type": "code",
      "source": [
        "df2.info()"
      ],
      "metadata": {
        "id": "1X11MFMElqxm",
        "colab": {
          "base_uri": "https://localhost:8080/"
        },
        "outputId": "406c135e-f91e-4131-8449-206d02cbe15b"
      },
      "execution_count": null,
      "outputs": [
        {
          "output_type": "stream",
          "name": "stdout",
          "text": [
            "<class 'pandas.core.frame.DataFrame'>\n",
            "RangeIndex: 20640 entries, 0 to 20639\n",
            "Data columns (total 10 columns):\n",
            " #   Column              Non-Null Count  Dtype  \n",
            "---  ------              --------------  -----  \n",
            " 0   longitude           20640 non-null  float64\n",
            " 1   latitude            20640 non-null  float64\n",
            " 2   housing_median_age  20640 non-null  float64\n",
            " 3   total_rooms         20640 non-null  float64\n",
            " 4   total_bedrooms      20640 non-null  float64\n",
            " 5   population          20640 non-null  float64\n",
            " 6   households          20640 non-null  float64\n",
            " 7   median_income       20640 non-null  float64\n",
            " 8   median_house_value  20640 non-null  float64\n",
            " 9   ocean_proximity     20640 non-null  int64  \n",
            "dtypes: float64(9), int64(1)\n",
            "memory usage: 1.6 MB\n"
          ]
        }
      ]
    },
    {
      "cell_type": "markdown",
      "source": [
        "# **Não considerando latitude e longitude**\n",
        "\n",
        "Existem 3 variáveis geográficas no dataset, latitude, longitude e ocean_proximity, então parecia redundante utilizar a latitude e longitude.\n",
        "\n",
        "Fiz alguns testes considerando a clusterização dessas duas variáveis e obtive uma divisão geográfica de norte e sul utilizando o KMeans, testei a nova feature cluster nos modelos e os resultados foram muito ruins, e por isso removi a variável de latitude e longitude e utilizar apenas uma variável geográfica que é ocean_proximity."
      ],
      "metadata": {
        "id": "Dz5VaJfcQ_a-"
      }
    },
    {
      "cell_type": "markdown",
      "source": [
        "![elbow_method.png](data:image/png;base64,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)"
      ],
      "metadata": {
        "id": "_o4rVsWT0lIj"
      }
    },
    {
      "cell_type": "markdown",
      "source": [
        "![cluster_map.png](data:image/png;base64,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)"
      ],
      "metadata": {
        "id": "dNsoX-6f0Vrw"
      }
    },
    {
      "cell_type": "markdown",
      "source": [
        "# Fazendo encoding para ocean_proximity\n",
        "\n",
        "Foi realizada a criação de dummies para a variável ocean_proximity mas os resultados não foram necessariamente melhores, então foi removido o uso de OneHotEncoding e colocado o LabelEncoder que é menos custoso e não é problema para árvores de decisão as quais conseguem lidar com variáveis categóricas."
      ],
      "metadata": {
        "id": "O-mgkCzqg7U6"
      }
    },
    {
      "cell_type": "code",
      "source": [
        "from sklearn.preprocessing import LabelEncoder\n",
        "\n",
        "label_encoder = LabelEncoder()\n",
        "\n",
        "# Aplicar Label Encoding na variável 'ocean_proximity'\n",
        "df2['ocean_proximity'] = label_encoder.fit_transform(df2['ocean_proximity'])\n"
      ],
      "metadata": {
        "id": "q7UR-n0EhM8u"
      },
      "execution_count": null,
      "outputs": []
    },
    {
      "cell_type": "code",
      "source": [
        "s_lat_long = df2\n",
        "\n",
        "s_lat_long = s_lat_long.drop('longitude', axis=1)\n",
        "s_lat_long = s_lat_long.drop('latitude', axis =1)\n",
        "#s_lat_long = s_lat_long.drop('total_bedrooms', axis =1)\n"
      ],
      "metadata": {
        "id": "POtX5i3-RhFe"
      },
      "execution_count": null,
      "outputs": []
    },
    {
      "cell_type": "code",
      "source": [
        "s_lat_long"
      ],
      "metadata": {
        "id": "yXeqZBLZxwLq",
        "colab": {
          "base_uri": "https://localhost:8080/",
          "height": 423
        },
        "outputId": "0df8348e-f99b-449e-ac09-2eef8d011787"
      },
      "execution_count": null,
      "outputs": [
        {
          "output_type": "execute_result",
          "data": {
            "text/plain": [
              "       housing_median_age  total_rooms  total_bedrooms  population  \\\n",
              "0                    41.0        880.0           129.0       322.0   \n",
              "1                    21.0       7099.0          1106.0      2401.0   \n",
              "2                    52.0       1467.0           190.0       496.0   \n",
              "3                    52.0       1274.0           235.0       558.0   \n",
              "4                    52.0       1627.0           280.0       565.0   \n",
              "...                   ...          ...             ...         ...   \n",
              "20635                25.0       1665.0           374.0       845.0   \n",
              "20636                18.0        697.0           150.0       356.0   \n",
              "20637                17.0       2254.0           485.0      1007.0   \n",
              "20638                18.0       1860.0           409.0       741.0   \n",
              "20639                16.0       2785.0           616.0      1387.0   \n",
              "\n",
              "       households  median_income  median_house_value  ocean_proximity  \n",
              "0           126.0         8.3252            452600.0                3  \n",
              "1          1138.0         8.3014            358500.0                3  \n",
              "2           177.0         7.2574            352100.0                3  \n",
              "3           219.0         5.6431            341300.0                3  \n",
              "4           259.0         3.8462            342200.0                3  \n",
              "...           ...            ...                 ...              ...  \n",
              "20635       330.0         1.5603             78100.0                1  \n",
              "20636       114.0         2.5568             77100.0                1  \n",
              "20637       433.0         1.7000             92300.0                1  \n",
              "20638       349.0         1.8672             84700.0                1  \n",
              "20639       530.0         2.3886             89400.0                1  \n",
              "\n",
              "[20433 rows x 8 columns]"
            ],
            "text/html": [
              "\n",
              "  <div id=\"df-ae2b84e4-7821-4b98-8ece-b507a8aa2ae8\">\n",
              "    <div class=\"colab-df-container\">\n",
              "      <div>\n",
              "<style scoped>\n",
              "    .dataframe tbody tr th:only-of-type {\n",
              "        vertical-align: middle;\n",
              "    }\n",
              "\n",
              "    .dataframe tbody tr th {\n",
              "        vertical-align: top;\n",
              "    }\n",
              "\n",
              "    .dataframe thead th {\n",
              "        text-align: right;\n",
              "    }\n",
              "</style>\n",
              "<table border=\"1\" class=\"dataframe\">\n",
              "  <thead>\n",
              "    <tr style=\"text-align: right;\">\n",
              "      <th></th>\n",
              "      <th>housing_median_age</th>\n",
              "      <th>total_rooms</th>\n",
              "      <th>total_bedrooms</th>\n",
              "      <th>population</th>\n",
              "      <th>households</th>\n",
              "      <th>median_income</th>\n",
              "      <th>median_house_value</th>\n",
              "      <th>ocean_proximity</th>\n",
              "    </tr>\n",
              "  </thead>\n",
              "  <tbody>\n",
              "    <tr>\n",
              "      <th>0</th>\n",
              "      <td>41.0</td>\n",
              "      <td>880.0</td>\n",
              "      <td>129.0</td>\n",
              "      <td>322.0</td>\n",
              "      <td>126.0</td>\n",
              "      <td>8.3252</td>\n",
              "      <td>452600.0</td>\n",
              "      <td>3</td>\n",
              "    </tr>\n",
              "    <tr>\n",
              "      <th>1</th>\n",
              "      <td>21.0</td>\n",
              "      <td>7099.0</td>\n",
              "      <td>1106.0</td>\n",
              "      <td>2401.0</td>\n",
              "      <td>1138.0</td>\n",
              "      <td>8.3014</td>\n",
              "      <td>358500.0</td>\n",
              "      <td>3</td>\n",
              "    </tr>\n",
              "    <tr>\n",
              "      <th>2</th>\n",
              "      <td>52.0</td>\n",
              "      <td>1467.0</td>\n",
              "      <td>190.0</td>\n",
              "      <td>496.0</td>\n",
              "      <td>177.0</td>\n",
              "      <td>7.2574</td>\n",
              "      <td>352100.0</td>\n",
              "      <td>3</td>\n",
              "    </tr>\n",
              "    <tr>\n",
              "      <th>3</th>\n",
              "      <td>52.0</td>\n",
              "      <td>1274.0</td>\n",
              "      <td>235.0</td>\n",
              "      <td>558.0</td>\n",
              "      <td>219.0</td>\n",
              "      <td>5.6431</td>\n",
              "      <td>341300.0</td>\n",
              "      <td>3</td>\n",
              "    </tr>\n",
              "    <tr>\n",
              "      <th>4</th>\n",
              "      <td>52.0</td>\n",
              "      <td>1627.0</td>\n",
              "      <td>280.0</td>\n",
              "      <td>565.0</td>\n",
              "      <td>259.0</td>\n",
              "      <td>3.8462</td>\n",
              "      <td>342200.0</td>\n",
              "      <td>3</td>\n",
              "    </tr>\n",
              "    <tr>\n",
              "      <th>...</th>\n",
              "      <td>...</td>\n",
              "      <td>...</td>\n",
              "      <td>...</td>\n",
              "      <td>...</td>\n",
              "      <td>...</td>\n",
              "      <td>...</td>\n",
              "      <td>...</td>\n",
              "      <td>...</td>\n",
              "    </tr>\n",
              "    <tr>\n",
              "      <th>20635</th>\n",
              "      <td>25.0</td>\n",
              "      <td>1665.0</td>\n",
              "      <td>374.0</td>\n",
              "      <td>845.0</td>\n",
              "      <td>330.0</td>\n",
              "      <td>1.5603</td>\n",
              "      <td>78100.0</td>\n",
              "      <td>1</td>\n",
              "    </tr>\n",
              "    <tr>\n",
              "      <th>20636</th>\n",
              "      <td>18.0</td>\n",
              "      <td>697.0</td>\n",
              "      <td>150.0</td>\n",
              "      <td>356.0</td>\n",
              "      <td>114.0</td>\n",
              "      <td>2.5568</td>\n",
              "      <td>77100.0</td>\n",
              "      <td>1</td>\n",
              "    </tr>\n",
              "    <tr>\n",
              "      <th>20637</th>\n",
              "      <td>17.0</td>\n",
              "      <td>2254.0</td>\n",
              "      <td>485.0</td>\n",
              "      <td>1007.0</td>\n",
              "      <td>433.0</td>\n",
              "      <td>1.7000</td>\n",
              "      <td>92300.0</td>\n",
              "      <td>1</td>\n",
              "    </tr>\n",
              "    <tr>\n",
              "      <th>20638</th>\n",
              "      <td>18.0</td>\n",
              "      <td>1860.0</td>\n",
              "      <td>409.0</td>\n",
              "      <td>741.0</td>\n",
              "      <td>349.0</td>\n",
              "      <td>1.8672</td>\n",
              "      <td>84700.0</td>\n",
              "      <td>1</td>\n",
              "    </tr>\n",
              "    <tr>\n",
              "      <th>20639</th>\n",
              "      <td>16.0</td>\n",
              "      <td>2785.0</td>\n",
              "      <td>616.0</td>\n",
              "      <td>1387.0</td>\n",
              "      <td>530.0</td>\n",
              "      <td>2.3886</td>\n",
              "      <td>89400.0</td>\n",
              "      <td>1</td>\n",
              "    </tr>\n",
              "  </tbody>\n",
              "</table>\n",
              "<p>20433 rows × 8 columns</p>\n",
              "</div>\n",
              "      <button class=\"colab-df-convert\" onclick=\"convertToInteractive('df-ae2b84e4-7821-4b98-8ece-b507a8aa2ae8')\"\n",
              "              title=\"Convert this dataframe to an interactive table.\"\n",
              "              style=\"display:none;\">\n",
              "        \n",
              "  <svg xmlns=\"http://www.w3.org/2000/svg\" height=\"24px\"viewBox=\"0 0 24 24\"\n",
              "       width=\"24px\">\n",
              "    <path d=\"M0 0h24v24H0V0z\" fill=\"none\"/>\n",
              "    <path d=\"M18.56 5.44l.94 2.06.94-2.06 2.06-.94-2.06-.94-.94-2.06-.94 2.06-2.06.94zm-11 1L8.5 8.5l.94-2.06 2.06-.94-2.06-.94L8.5 2.5l-.94 2.06-2.06.94zm10 10l.94 2.06.94-2.06 2.06-.94-2.06-.94-.94-2.06-.94 2.06-2.06.94z\"/><path d=\"M17.41 7.96l-1.37-1.37c-.4-.4-.92-.59-1.43-.59-.52 0-1.04.2-1.43.59L10.3 9.45l-7.72 7.72c-.78.78-.78 2.05 0 2.83L4 21.41c.39.39.9.59 1.41.59.51 0 1.02-.2 1.41-.59l7.78-7.78 2.81-2.81c.8-.78.8-2.07 0-2.86zM5.41 20L4 18.59l7.72-7.72 1.47 1.35L5.41 20z\"/>\n",
              "  </svg>\n",
              "      </button>\n",
              "      \n",
              "  <style>\n",
              "    .colab-df-container {\n",
              "      display:flex;\n",
              "      flex-wrap:wrap;\n",
              "      gap: 12px;\n",
              "    }\n",
              "\n",
              "    .colab-df-convert {\n",
              "      background-color: #E8F0FE;\n",
              "      border: none;\n",
              "      border-radius: 50%;\n",
              "      cursor: pointer;\n",
              "      display: none;\n",
              "      fill: #1967D2;\n",
              "      height: 32px;\n",
              "      padding: 0 0 0 0;\n",
              "      width: 32px;\n",
              "    }\n",
              "\n",
              "    .colab-df-convert:hover {\n",
              "      background-color: #E2EBFA;\n",
              "      box-shadow: 0px 1px 2px rgba(60, 64, 67, 0.3), 0px 1px 3px 1px rgba(60, 64, 67, 0.15);\n",
              "      fill: #174EA6;\n",
              "    }\n",
              "\n",
              "    [theme=dark] .colab-df-convert {\n",
              "      background-color: #3B4455;\n",
              "      fill: #D2E3FC;\n",
              "    }\n",
              "\n",
              "    [theme=dark] .colab-df-convert:hover {\n",
              "      background-color: #434B5C;\n",
              "      box-shadow: 0px 1px 3px 1px rgba(0, 0, 0, 0.15);\n",
              "      filter: drop-shadow(0px 1px 2px rgba(0, 0, 0, 0.3));\n",
              "      fill: #FFFFFF;\n",
              "    }\n",
              "  </style>\n",
              "\n",
              "      <script>\n",
              "        const buttonEl =\n",
              "          document.querySelector('#df-ae2b84e4-7821-4b98-8ece-b507a8aa2ae8 button.colab-df-convert');\n",
              "        buttonEl.style.display =\n",
              "          google.colab.kernel.accessAllowed ? 'block' : 'none';\n",
              "\n",
              "        async function convertToInteractive(key) {\n",
              "          const element = document.querySelector('#df-ae2b84e4-7821-4b98-8ece-b507a8aa2ae8');\n",
              "          const dataTable =\n",
              "            await google.colab.kernel.invokeFunction('convertToInteractive',\n",
              "                                                     [key], {});\n",
              "          if (!dataTable) return;\n",
              "\n",
              "          const docLinkHtml = 'Like what you see? Visit the ' +\n",
              "            '<a target=\"_blank\" href=https://colab.research.google.com/notebooks/data_table.ipynb>data table notebook</a>'\n",
              "            + ' to learn more about interactive tables.';\n",
              "          element.innerHTML = '';\n",
              "          dataTable['output_type'] = 'display_data';\n",
              "          await google.colab.output.renderOutput(dataTable, element);\n",
              "          const docLink = document.createElement('div');\n",
              "          docLink.innerHTML = docLinkHtml;\n",
              "          element.appendChild(docLink);\n",
              "        }\n",
              "      </script>\n",
              "    </div>\n",
              "  </div>\n",
              "  "
            ]
          },
          "metadata": {},
          "execution_count": 100
        }
      ]
    },
    {
      "cell_type": "markdown",
      "source": [
        "# **Separando target e features**"
      ],
      "metadata": {
        "id": "FhZF_QcusHnR"
      }
    },
    {
      "cell_type": "code",
      "source": [
        "from sklearn.model_selection import train_test_split\n",
        "\n",
        "X = s_lat_long.drop('median_house_value', axis=1)\n",
        "y = s_lat_long['median_house_value']\n",
        "\n",
        "X_treino, X_teste,y_treino, y_teste = train_test_split(X,y, test_size=0.2, random_state=42)"
      ],
      "metadata": {
        "id": "6d0O8CS5v_qR"
      },
      "execution_count": null,
      "outputs": []
    },
    {
      "cell_type": "markdown",
      "source": [
        "Como árvore de decisão/regressão é uma técnica não paramétrica , que não depende do conhecimento da distribuição de probabilidade conhecida foram feitos testes com e sem normalização das variáveis preditoras, e por fim os resultados sem normalização foram melhores."
      ],
      "metadata": {
        "id": "GrhEjPvwFlNn"
      }
    },
    {
      "cell_type": "markdown",
      "source": [
        "# **Random Forest**"
      ],
      "metadata": {
        "id": "VrXQTTUGwjaU"
      }
    },
    {
      "cell_type": "code",
      "source": [
        "from sklearn.ensemble import RandomForestRegressor\n",
        "regressor = RandomForestRegressor()\n",
        "regressor.fit(X_treino, y_treino)"
      ],
      "metadata": {
        "id": "kXQCOjBPmT8d",
        "colab": {
          "base_uri": "https://localhost:8080/",
          "height": 74
        },
        "outputId": "9aa9a385-58bd-4705-fe65-544a2a378bdd"
      },
      "execution_count": null,
      "outputs": [
        {
          "output_type": "execute_result",
          "data": {
            "text/plain": [
              "RandomForestRegressor()"
            ],
            "text/html": [
              "<style>#sk-container-id-11 {color: black;background-color: white;}#sk-container-id-11 pre{padding: 0;}#sk-container-id-11 div.sk-toggleable {background-color: white;}#sk-container-id-11 label.sk-toggleable__label {cursor: pointer;display: block;width: 100%;margin-bottom: 0;padding: 0.3em;box-sizing: border-box;text-align: center;}#sk-container-id-11 label.sk-toggleable__label-arrow:before {content: \"▸\";float: left;margin-right: 0.25em;color: #696969;}#sk-container-id-11 label.sk-toggleable__label-arrow:hover:before {color: black;}#sk-container-id-11 div.sk-estimator:hover label.sk-toggleable__label-arrow:before {color: black;}#sk-container-id-11 div.sk-toggleable__content {max-height: 0;max-width: 0;overflow: hidden;text-align: left;background-color: #f0f8ff;}#sk-container-id-11 div.sk-toggleable__content pre {margin: 0.2em;color: black;border-radius: 0.25em;background-color: #f0f8ff;}#sk-container-id-11 input.sk-toggleable__control:checked~div.sk-toggleable__content {max-height: 200px;max-width: 100%;overflow: auto;}#sk-container-id-11 input.sk-toggleable__control:checked~label.sk-toggleable__label-arrow:before {content: \"▾\";}#sk-container-id-11 div.sk-estimator input.sk-toggleable__control:checked~label.sk-toggleable__label {background-color: #d4ebff;}#sk-container-id-11 div.sk-label input.sk-toggleable__control:checked~label.sk-toggleable__label {background-color: #d4ebff;}#sk-container-id-11 input.sk-hidden--visually {border: 0;clip: rect(1px 1px 1px 1px);clip: rect(1px, 1px, 1px, 1px);height: 1px;margin: -1px;overflow: hidden;padding: 0;position: absolute;width: 1px;}#sk-container-id-11 div.sk-estimator {font-family: monospace;background-color: #f0f8ff;border: 1px dotted black;border-radius: 0.25em;box-sizing: border-box;margin-bottom: 0.5em;}#sk-container-id-11 div.sk-estimator:hover {background-color: #d4ebff;}#sk-container-id-11 div.sk-parallel-item::after {content: \"\";width: 100%;border-bottom: 1px solid gray;flex-grow: 1;}#sk-container-id-11 div.sk-label:hover label.sk-toggleable__label {background-color: #d4ebff;}#sk-container-id-11 div.sk-serial::before {content: \"\";position: absolute;border-left: 1px solid gray;box-sizing: border-box;top: 0;bottom: 0;left: 50%;z-index: 0;}#sk-container-id-11 div.sk-serial {display: flex;flex-direction: column;align-items: center;background-color: white;padding-right: 0.2em;padding-left: 0.2em;position: relative;}#sk-container-id-11 div.sk-item {position: relative;z-index: 1;}#sk-container-id-11 div.sk-parallel {display: flex;align-items: stretch;justify-content: center;background-color: white;position: relative;}#sk-container-id-11 div.sk-item::before, #sk-container-id-11 div.sk-parallel-item::before {content: \"\";position: absolute;border-left: 1px solid gray;box-sizing: border-box;top: 0;bottom: 0;left: 50%;z-index: -1;}#sk-container-id-11 div.sk-parallel-item {display: flex;flex-direction: column;z-index: 1;position: relative;background-color: white;}#sk-container-id-11 div.sk-parallel-item:first-child::after {align-self: flex-end;width: 50%;}#sk-container-id-11 div.sk-parallel-item:last-child::after {align-self: flex-start;width: 50%;}#sk-container-id-11 div.sk-parallel-item:only-child::after {width: 0;}#sk-container-id-11 div.sk-dashed-wrapped {border: 1px dashed gray;margin: 0 0.4em 0.5em 0.4em;box-sizing: border-box;padding-bottom: 0.4em;background-color: white;}#sk-container-id-11 div.sk-label label {font-family: monospace;font-weight: bold;display: inline-block;line-height: 1.2em;}#sk-container-id-11 div.sk-label-container {text-align: center;}#sk-container-id-11 div.sk-container {/* jupyter's `normalize.less` sets `[hidden] { display: none; }` but bootstrap.min.css set `[hidden] { display: none !important; }` so we also need the `!important` here to be able to override the default hidden behavior on the sphinx rendered scikit-learn.org. See: https://github.com/scikit-learn/scikit-learn/issues/21755 */display: inline-block !important;position: relative;}#sk-container-id-11 div.sk-text-repr-fallback {display: none;}</style><div id=\"sk-container-id-11\" class=\"sk-top-container\"><div class=\"sk-text-repr-fallback\"><pre>RandomForestRegressor()</pre><b>In a Jupyter environment, please rerun this cell to show the HTML representation or trust the notebook. <br />On GitHub, the HTML representation is unable to render, please try loading this page with nbviewer.org.</b></div><div class=\"sk-container\" hidden><div class=\"sk-item\"><div class=\"sk-estimator sk-toggleable\"><input class=\"sk-toggleable__control sk-hidden--visually\" id=\"sk-estimator-id-11\" type=\"checkbox\" checked><label for=\"sk-estimator-id-11\" class=\"sk-toggleable__label sk-toggleable__label-arrow\">RandomForestRegressor</label><div class=\"sk-toggleable__content\"><pre>RandomForestRegressor()</pre></div></div></div></div></div>"
            ]
          },
          "metadata": {},
          "execution_count": 163
        }
      ]
    },
    {
      "cell_type": "code",
      "source": [
        "y_pred = regressor.predict(X_teste)"
      ],
      "metadata": {
        "id": "xPCsNzNEtpJT"
      },
      "execution_count": null,
      "outputs": []
    },
    {
      "cell_type": "code",
      "source": [
        "import math\n",
        "import numpy as np\n",
        "\n",
        "MSE = np.square(np.subtract(y_teste,y_pred)).mean()\n",
        "\n",
        "RMSE = math.sqrt(MSE)\n",
        "print(\"Root Mean Square Error:\\n\")\n",
        "print(RMSE)"
      ],
      "metadata": {
        "colab": {
          "base_uri": "https://localhost:8080/"
        },
        "id": "Q8tNceoNhP7K",
        "outputId": "d189ecdd-d1c3-41a4-ac9f-f8f26a58aa3b"
      },
      "execution_count": null,
      "outputs": [
        {
          "output_type": "stream",
          "name": "stdout",
          "text": [
            "Root Mean Square Error:\n",
            "\n",
            "61098.91058285384\n"
          ]
        }
      ]
    },
    {
      "cell_type": "markdown",
      "source": [
        "Com todas as variaveis menos latitude e longitude\n",
        "\n",
        "Root Mean Square Error:\n",
        "\n",
        "104224.0810218162\n",
        "\n",
        "sem latitude longitude households e total_bedrooms\n",
        "\n",
        "Root Mean Square Error:\n",
        "\n",
        "110878.46620600729\n",
        "\n",
        "Removendo islands do dataset\n",
        "\n",
        "Root Mean Square Error:\n",
        "\n",
        "103822.5791903684\n",
        "\n",
        "sem normalização e sem dummies\n",
        "\n",
        "Root Mean Square Error:\n",
        "\n",
        "45717.67649048425"
      ],
      "metadata": {
        "id": "-x2vmRiQkgL6"
      }
    },
    {
      "cell_type": "markdown",
      "source": [
        "# **XGBoost**"
      ],
      "metadata": {
        "id": "uDW2OTd_wjSf"
      }
    },
    {
      "cell_type": "code",
      "source": [
        "from xgboost import XGBRegressor\n",
        "classifier = XGBRegressor()\n",
        "classifier.fit(X_treino, y_treino)"
      ],
      "metadata": {
        "id": "z5KMWD5e2Xlk",
        "colab": {
          "base_uri": "https://localhost:8080/",
          "height": 247
        },
        "outputId": "88063266-9756-4e4f-a8a0-432fc925cd9f"
      },
      "execution_count": null,
      "outputs": [
        {
          "output_type": "execute_result",
          "data": {
            "text/plain": [
              "XGBRegressor(base_score=None, booster=None, callbacks=None,\n",
              "             colsample_bylevel=None, colsample_bynode=None,\n",
              "             colsample_bytree=None, early_stopping_rounds=None,\n",
              "             enable_categorical=False, eval_metric=None, feature_types=None,\n",
              "             gamma=None, gpu_id=None, grow_policy=None, importance_type=None,\n",
              "             interaction_constraints=None, learning_rate=None, max_bin=None,\n",
              "             max_cat_threshold=None, max_cat_to_onehot=None,\n",
              "             max_delta_step=None, max_depth=None, max_leaves=None,\n",
              "             min_child_weight=None, missing=nan, monotone_constraints=None,\n",
              "             n_estimators=100, n_jobs=None, num_parallel_tree=None,\n",
              "             predictor=None, random_state=None, ...)"
            ],
            "text/html": [
              "<style>#sk-container-id-2 {color: black;background-color: white;}#sk-container-id-2 pre{padding: 0;}#sk-container-id-2 div.sk-toggleable {background-color: white;}#sk-container-id-2 label.sk-toggleable__label {cursor: pointer;display: block;width: 100%;margin-bottom: 0;padding: 0.3em;box-sizing: border-box;text-align: center;}#sk-container-id-2 label.sk-toggleable__label-arrow:before {content: \"▸\";float: left;margin-right: 0.25em;color: #696969;}#sk-container-id-2 label.sk-toggleable__label-arrow:hover:before {color: black;}#sk-container-id-2 div.sk-estimator:hover label.sk-toggleable__label-arrow:before {color: black;}#sk-container-id-2 div.sk-toggleable__content {max-height: 0;max-width: 0;overflow: hidden;text-align: left;background-color: #f0f8ff;}#sk-container-id-2 div.sk-toggleable__content pre {margin: 0.2em;color: black;border-radius: 0.25em;background-color: #f0f8ff;}#sk-container-id-2 input.sk-toggleable__control:checked~div.sk-toggleable__content {max-height: 200px;max-width: 100%;overflow: auto;}#sk-container-id-2 input.sk-toggleable__control:checked~label.sk-toggleable__label-arrow:before {content: \"▾\";}#sk-container-id-2 div.sk-estimator input.sk-toggleable__control:checked~label.sk-toggleable__label {background-color: #d4ebff;}#sk-container-id-2 div.sk-label input.sk-toggleable__control:checked~label.sk-toggleable__label {background-color: #d4ebff;}#sk-container-id-2 input.sk-hidden--visually {border: 0;clip: rect(1px 1px 1px 1px);clip: rect(1px, 1px, 1px, 1px);height: 1px;margin: -1px;overflow: hidden;padding: 0;position: absolute;width: 1px;}#sk-container-id-2 div.sk-estimator {font-family: monospace;background-color: #f0f8ff;border: 1px dotted black;border-radius: 0.25em;box-sizing: border-box;margin-bottom: 0.5em;}#sk-container-id-2 div.sk-estimator:hover {background-color: #d4ebff;}#sk-container-id-2 div.sk-parallel-item::after {content: \"\";width: 100%;border-bottom: 1px solid gray;flex-grow: 1;}#sk-container-id-2 div.sk-label:hover label.sk-toggleable__label {background-color: #d4ebff;}#sk-container-id-2 div.sk-serial::before {content: \"\";position: absolute;border-left: 1px solid gray;box-sizing: border-box;top: 0;bottom: 0;left: 50%;z-index: 0;}#sk-container-id-2 div.sk-serial {display: flex;flex-direction: column;align-items: center;background-color: white;padding-right: 0.2em;padding-left: 0.2em;position: relative;}#sk-container-id-2 div.sk-item {position: relative;z-index: 1;}#sk-container-id-2 div.sk-parallel {display: flex;align-items: stretch;justify-content: center;background-color: white;position: relative;}#sk-container-id-2 div.sk-item::before, #sk-container-id-2 div.sk-parallel-item::before {content: \"\";position: absolute;border-left: 1px solid gray;box-sizing: border-box;top: 0;bottom: 0;left: 50%;z-index: -1;}#sk-container-id-2 div.sk-parallel-item {display: flex;flex-direction: column;z-index: 1;position: relative;background-color: white;}#sk-container-id-2 div.sk-parallel-item:first-child::after {align-self: flex-end;width: 50%;}#sk-container-id-2 div.sk-parallel-item:last-child::after {align-self: flex-start;width: 50%;}#sk-container-id-2 div.sk-parallel-item:only-child::after {width: 0;}#sk-container-id-2 div.sk-dashed-wrapped {border: 1px dashed gray;margin: 0 0.4em 0.5em 0.4em;box-sizing: border-box;padding-bottom: 0.4em;background-color: white;}#sk-container-id-2 div.sk-label label {font-family: monospace;font-weight: bold;display: inline-block;line-height: 1.2em;}#sk-container-id-2 div.sk-label-container {text-align: center;}#sk-container-id-2 div.sk-container {/* jupyter's `normalize.less` sets `[hidden] { display: none; }` but bootstrap.min.css set `[hidden] { display: none !important; }` so we also need the `!important` here to be able to override the default hidden behavior on the sphinx rendered scikit-learn.org. See: https://github.com/scikit-learn/scikit-learn/issues/21755 */display: inline-block !important;position: relative;}#sk-container-id-2 div.sk-text-repr-fallback {display: none;}</style><div id=\"sk-container-id-2\" class=\"sk-top-container\"><div class=\"sk-text-repr-fallback\"><pre>XGBRegressor(base_score=None, booster=None, callbacks=None,\n",
              "             colsample_bylevel=None, colsample_bynode=None,\n",
              "             colsample_bytree=None, early_stopping_rounds=None,\n",
              "             enable_categorical=False, eval_metric=None, feature_types=None,\n",
              "             gamma=None, gpu_id=None, grow_policy=None, importance_type=None,\n",
              "             interaction_constraints=None, learning_rate=None, max_bin=None,\n",
              "             max_cat_threshold=None, max_cat_to_onehot=None,\n",
              "             max_delta_step=None, max_depth=None, max_leaves=None,\n",
              "             min_child_weight=None, missing=nan, monotone_constraints=None,\n",
              "             n_estimators=100, n_jobs=None, num_parallel_tree=None,\n",
              "             predictor=None, random_state=None, ...)</pre><b>In a Jupyter environment, please rerun this cell to show the HTML representation or trust the notebook. <br />On GitHub, the HTML representation is unable to render, please try loading this page with nbviewer.org.</b></div><div class=\"sk-container\" hidden><div class=\"sk-item\"><div class=\"sk-estimator sk-toggleable\"><input class=\"sk-toggleable__control sk-hidden--visually\" id=\"sk-estimator-id-2\" type=\"checkbox\" checked><label for=\"sk-estimator-id-2\" class=\"sk-toggleable__label sk-toggleable__label-arrow\">XGBRegressor</label><div class=\"sk-toggleable__content\"><pre>XGBRegressor(base_score=None, booster=None, callbacks=None,\n",
              "             colsample_bylevel=None, colsample_bynode=None,\n",
              "             colsample_bytree=None, early_stopping_rounds=None,\n",
              "             enable_categorical=False, eval_metric=None, feature_types=None,\n",
              "             gamma=None, gpu_id=None, grow_policy=None, importance_type=None,\n",
              "             interaction_constraints=None, learning_rate=None, max_bin=None,\n",
              "             max_cat_threshold=None, max_cat_to_onehot=None,\n",
              "             max_delta_step=None, max_depth=None, max_leaves=None,\n",
              "             min_child_weight=None, missing=nan, monotone_constraints=None,\n",
              "             n_estimators=100, n_jobs=None, num_parallel_tree=None,\n",
              "             predictor=None, random_state=None, ...)</pre></div></div></div></div></div>"
            ]
          },
          "metadata": {},
          "execution_count": 34
        }
      ]
    },
    {
      "cell_type": "code",
      "source": [
        "y_pred = classifier.predict(X_teste)"
      ],
      "metadata": {
        "id": "R_2519IqWcx8"
      },
      "execution_count": null,
      "outputs": []
    },
    {
      "cell_type": "code",
      "source": [
        "import math\n",
        "import numpy as np\n",
        "\n",
        "MSE = np.square(np.subtract(y_teste,y_pred)).mean()\n",
        "\n",
        "RMSE = math.sqrt(MSE)\n",
        "print(\"Root Mean Square Error:\\n\")\n",
        "print(RMSE)"
      ],
      "metadata": {
        "id": "gJpT79jfB-JJ",
        "colab": {
          "base_uri": "https://localhost:8080/"
        },
        "outputId": "a164f6e0-9d1d-47f8-9722-cdea51918226"
      },
      "execution_count": null,
      "outputs": [
        {
          "output_type": "stream",
          "name": "stdout",
          "text": [
            "Root Mean Square Error:\n",
            "\n",
            "62118.88121541012\n"
          ]
        }
      ]
    },
    {
      "cell_type": "markdown",
      "source": [
        "Com todas as variaveis menos latitude e longitude\n",
        "\n",
        "Root Mean Square Error:\n",
        "\n",
        "61488.31595272967\n",
        "\n",
        "sem latitude longitude households e total_bedrooms\n",
        "\n",
        "Root Mean Square Error:\n",
        "\n",
        "67599.81385330061\n",
        "\n",
        "Removendo islands do dataset\n",
        "\n",
        "Root Mean Square Error:\n",
        "\n",
        "65066.45641826281"
      ],
      "metadata": {
        "id": "ls1oRaLVnCTM"
      }
    },
    {
      "cell_type": "markdown",
      "source": [
        "# **Light GBM**"
      ],
      "metadata": {
        "id": "1bf8HwFZ2X8u"
      }
    },
    {
      "cell_type": "code",
      "source": [
        "#importando os pacotes necessários\n",
        "import lightgbm as lgb\n",
        "from lightgbm import LGBMRegressor\n",
        "from sklearn.datasets import fetch_california_housing\n",
        "from sklearn.metrics import mean_squared_error\n",
        "from sklearn.model_selection import train_test_split\n",
        "from pandas import DataFrame\n",
        "import matplotlib.pyplot as plt\n",
        "\n",
        "import warnings\n",
        "warnings.filterwarnings(\"ignore\")\n",
        "\n",
        "\n",
        "\n",
        "params = {\n",
        "    'task': 'train',\n",
        "    'boosting': 'gbdt',\n",
        "    'objective': 'regression',\n",
        "    'num_leaves': 10,\n",
        "    'learnnig_rate': 0.05,\n",
        "    'metric': {'l2','l1'},\n",
        "    'verbose': -1\n",
        "}\n",
        "\n",
        "lgb_train = lgb.Dataset(X_treino, y_treino) #dados que serão usados para treino do modelo\n",
        "lgb_test = lgb.Dataset(X_teste, y_teste, reference=lgb_train) #dados que serão usados para teste do modelo treinado\n",
        "model = lgb.train(params,\n",
        "                 train_set=lgb_train,\n",
        "                 valid_sets=lgb_test,\n",
        "                 early_stopping_rounds=30)"
      ],
      "metadata": {
        "id": "7mRXemXXGzhJ",
        "colab": {
          "base_uri": "https://localhost:8080/"
        },
        "outputId": "91a35a9d-aaa3-48a6-ed5a-57b9f0b724e0"
      },
      "execution_count": null,
      "outputs": [
        {
          "output_type": "stream",
          "name": "stdout",
          "text": [
            "[LightGBM] [Warning] Unknown parameter: learnnig_rate\n",
            "[1]\tvalid_0's l1: 85881.7\tvalid_0's l2: 1.19557e+10\n",
            "Training until validation scores don't improve for 30 rounds\n",
            "[2]\tvalid_0's l1: 81508.3\tvalid_0's l2: 1.08162e+10\n",
            "[3]\tvalid_0's l1: 77637.2\tvalid_0's l2: 9.88654e+09\n",
            "[4]\tvalid_0's l1: 74374.6\tvalid_0's l2: 9.11093e+09\n",
            "[5]\tvalid_0's l1: 71479.4\tvalid_0's l2: 8.47895e+09\n",
            "[6]\tvalid_0's l1: 68971.4\tvalid_0's l2: 7.94851e+09\n",
            "[7]\tvalid_0's l1: 66767.3\tvalid_0's l2: 7.50518e+09\n",
            "[8]\tvalid_0's l1: 64783\tvalid_0's l2: 7.13656e+09\n",
            "[9]\tvalid_0's l1: 63195\tvalid_0's l2: 6.8317e+09\n",
            "[10]\tvalid_0's l1: 61679.9\tvalid_0's l2: 6.56445e+09\n",
            "[11]\tvalid_0's l1: 60438.9\tvalid_0's l2: 6.35109e+09\n",
            "[12]\tvalid_0's l1: 59305.8\tvalid_0's l2: 6.15294e+09\n",
            "[13]\tvalid_0's l1: 58174.9\tvalid_0's l2: 5.97855e+09\n",
            "[14]\tvalid_0's l1: 57222.4\tvalid_0's l2: 5.82923e+09\n",
            "[15]\tvalid_0's l1: 56423.9\tvalid_0's l2: 5.7081e+09\n",
            "[16]\tvalid_0's l1: 55758.4\tvalid_0's l2: 5.59909e+09\n",
            "[17]\tvalid_0's l1: 55010.7\tvalid_0's l2: 5.49181e+09\n",
            "[18]\tvalid_0's l1: 54419.8\tvalid_0's l2: 5.3997e+09\n",
            "[19]\tvalid_0's l1: 53783.7\tvalid_0's l2: 5.30075e+09\n",
            "[20]\tvalid_0's l1: 53231.6\tvalid_0's l2: 5.20894e+09\n",
            "[21]\tvalid_0's l1: 52712.9\tvalid_0's l2: 5.1361e+09\n",
            "[22]\tvalid_0's l1: 52236.5\tvalid_0's l2: 5.05449e+09\n",
            "[23]\tvalid_0's l1: 51848.1\tvalid_0's l2: 4.99754e+09\n",
            "[24]\tvalid_0's l1: 51502.4\tvalid_0's l2: 4.94573e+09\n",
            "[25]\tvalid_0's l1: 51119.3\tvalid_0's l2: 4.88518e+09\n",
            "[26]\tvalid_0's l1: 50804.6\tvalid_0's l2: 4.82706e+09\n",
            "[27]\tvalid_0's l1: 50466.9\tvalid_0's l2: 4.7823e+09\n",
            "[28]\tvalid_0's l1: 50073.5\tvalid_0's l2: 4.72464e+09\n",
            "[29]\tvalid_0's l1: 49762.1\tvalid_0's l2: 4.67839e+09\n",
            "[30]\tvalid_0's l1: 49482.8\tvalid_0's l2: 4.64256e+09\n",
            "[31]\tvalid_0's l1: 49249.6\tvalid_0's l2: 4.60895e+09\n",
            "[32]\tvalid_0's l1: 48991.3\tvalid_0's l2: 4.56912e+09\n",
            "[33]\tvalid_0's l1: 48739\tvalid_0's l2: 4.52284e+09\n",
            "[34]\tvalid_0's l1: 48530.5\tvalid_0's l2: 4.49637e+09\n",
            "[35]\tvalid_0's l1: 48311.8\tvalid_0's l2: 4.46435e+09\n",
            "[36]\tvalid_0's l1: 48098.9\tvalid_0's l2: 4.42691e+09\n",
            "[37]\tvalid_0's l1: 47949.7\tvalid_0's l2: 4.40208e+09\n",
            "[38]\tvalid_0's l1: 47734.7\tvalid_0's l2: 4.37151e+09\n",
            "[39]\tvalid_0's l1: 47605\tvalid_0's l2: 4.35278e+09\n",
            "[40]\tvalid_0's l1: 47447.1\tvalid_0's l2: 4.32878e+09\n",
            "[41]\tvalid_0's l1: 47267\tvalid_0's l2: 4.29993e+09\n",
            "[42]\tvalid_0's l1: 47174.6\tvalid_0's l2: 4.28629e+09\n",
            "[43]\tvalid_0's l1: 47081\tvalid_0's l2: 4.27449e+09\n",
            "[44]\tvalid_0's l1: 46931.3\tvalid_0's l2: 4.24644e+09\n",
            "[45]\tvalid_0's l1: 46830.1\tvalid_0's l2: 4.23207e+09\n",
            "[46]\tvalid_0's l1: 46689.9\tvalid_0's l2: 4.21448e+09\n",
            "[47]\tvalid_0's l1: 46570.9\tvalid_0's l2: 4.19724e+09\n",
            "[48]\tvalid_0's l1: 46520.9\tvalid_0's l2: 4.18985e+09\n",
            "[49]\tvalid_0's l1: 46411.7\tvalid_0's l2: 4.17239e+09\n",
            "[50]\tvalid_0's l1: 46293\tvalid_0's l2: 4.15422e+09\n",
            "[51]\tvalid_0's l1: 46238.8\tvalid_0's l2: 4.14968e+09\n",
            "[52]\tvalid_0's l1: 46175.7\tvalid_0's l2: 4.14022e+09\n",
            "[53]\tvalid_0's l1: 46071.3\tvalid_0's l2: 4.1296e+09\n",
            "[54]\tvalid_0's l1: 46007.5\tvalid_0's l2: 4.12393e+09\n",
            "[55]\tvalid_0's l1: 45933.5\tvalid_0's l2: 4.11376e+09\n",
            "[56]\tvalid_0's l1: 45871.1\tvalid_0's l2: 4.1046e+09\n",
            "[57]\tvalid_0's l1: 45780.6\tvalid_0's l2: 4.09067e+09\n",
            "[58]\tvalid_0's l1: 45722\tvalid_0's l2: 4.081e+09\n",
            "[59]\tvalid_0's l1: 45663.2\tvalid_0's l2: 4.07457e+09\n",
            "[60]\tvalid_0's l1: 45581.5\tvalid_0's l2: 4.06104e+09\n",
            "[61]\tvalid_0's l1: 45539.9\tvalid_0's l2: 4.05271e+09\n",
            "[62]\tvalid_0's l1: 45496.8\tvalid_0's l2: 4.04263e+09\n",
            "[63]\tvalid_0's l1: 45444.7\tvalid_0's l2: 4.03489e+09\n",
            "[64]\tvalid_0's l1: 45405.2\tvalid_0's l2: 4.03026e+09\n",
            "[65]\tvalid_0's l1: 45382.2\tvalid_0's l2: 4.02686e+09\n",
            "[66]\tvalid_0's l1: 45346.2\tvalid_0's l2: 4.02064e+09\n",
            "[67]\tvalid_0's l1: 45315.8\tvalid_0's l2: 4.01831e+09\n",
            "[68]\tvalid_0's l1: 45265.6\tvalid_0's l2: 4.00822e+09\n",
            "[69]\tvalid_0's l1: 45204.1\tvalid_0's l2: 3.9966e+09\n",
            "[70]\tvalid_0's l1: 45154.2\tvalid_0's l2: 3.99094e+09\n",
            "[71]\tvalid_0's l1: 45105\tvalid_0's l2: 3.98071e+09\n",
            "[72]\tvalid_0's l1: 45059.2\tvalid_0's l2: 3.97592e+09\n",
            "[73]\tvalid_0's l1: 45011.9\tvalid_0's l2: 3.96777e+09\n",
            "[74]\tvalid_0's l1: 44985.9\tvalid_0's l2: 3.96398e+09\n",
            "[75]\tvalid_0's l1: 44955\tvalid_0's l2: 3.96089e+09\n",
            "[76]\tvalid_0's l1: 44918.8\tvalid_0's l2: 3.95569e+09\n",
            "[77]\tvalid_0's l1: 44867.5\tvalid_0's l2: 3.9491e+09\n",
            "[78]\tvalid_0's l1: 44829.8\tvalid_0's l2: 3.94515e+09\n",
            "[79]\tvalid_0's l1: 44799.2\tvalid_0's l2: 3.9408e+09\n",
            "[80]\tvalid_0's l1: 44792.7\tvalid_0's l2: 3.94018e+09\n",
            "[81]\tvalid_0's l1: 44777.9\tvalid_0's l2: 3.93777e+09\n",
            "[82]\tvalid_0's l1: 44751.1\tvalid_0's l2: 3.93247e+09\n",
            "[83]\tvalid_0's l1: 44727.7\tvalid_0's l2: 3.93017e+09\n",
            "[84]\tvalid_0's l1: 44710.3\tvalid_0's l2: 3.92669e+09\n",
            "[85]\tvalid_0's l1: 44707.3\tvalid_0's l2: 3.92745e+09\n",
            "[86]\tvalid_0's l1: 44685.1\tvalid_0's l2: 3.9224e+09\n",
            "[87]\tvalid_0's l1: 44661.2\tvalid_0's l2: 3.9206e+09\n",
            "[88]\tvalid_0's l1: 44624.8\tvalid_0's l2: 3.91479e+09\n",
            "[89]\tvalid_0's l1: 44580.9\tvalid_0's l2: 3.9077e+09\n",
            "[90]\tvalid_0's l1: 44544.2\tvalid_0's l2: 3.90311e+09\n",
            "[91]\tvalid_0's l1: 44549.6\tvalid_0's l2: 3.90368e+09\n",
            "[92]\tvalid_0's l1: 44537.8\tvalid_0's l2: 3.90258e+09\n",
            "[93]\tvalid_0's l1: 44508.7\tvalid_0's l2: 3.89701e+09\n",
            "[94]\tvalid_0's l1: 44495.2\tvalid_0's l2: 3.89478e+09\n",
            "[95]\tvalid_0's l1: 44498.3\tvalid_0's l2: 3.89369e+09\n",
            "[96]\tvalid_0's l1: 44476.6\tvalid_0's l2: 3.89065e+09\n",
            "[97]\tvalid_0's l1: 44471.5\tvalid_0's l2: 3.89121e+09\n",
            "[98]\tvalid_0's l1: 44466.8\tvalid_0's l2: 3.89016e+09\n",
            "[99]\tvalid_0's l1: 44456.8\tvalid_0's l2: 3.88786e+09\n",
            "[100]\tvalid_0's l1: 44444.2\tvalid_0's l2: 3.88773e+09\n",
            "Did not meet early stopping. Best iteration is:\n",
            "[100]\tvalid_0's l1: 44444.2\tvalid_0's l2: 3.88773e+09\n"
          ]
        }
      ]
    },
    {
      "cell_type": "code",
      "source": [
        "# agora podemos obter as métricas\n",
        "y_pred = model.predict(X_teste)\n",
        "\n",
        "# accuracy check\n",
        "mse = mean_squared_error(y_teste, y_pred)\n",
        "rmse = mse**(0.5)\n",
        "print(\"MSE: %.2f\" % mse)\n",
        "print(\"RMSE: %.2f\" % rmse)"
      ],
      "metadata": {
        "id": "xlwG0tAjAcKq",
        "colab": {
          "base_uri": "https://localhost:8080/"
        },
        "outputId": "12070d86-d6eb-48ba-d45d-6fb2920690d3"
      },
      "execution_count": null,
      "outputs": [
        {
          "output_type": "stream",
          "name": "stdout",
          "text": [
            "MSE: 3887726254.93\n",
            "RMSE: 62351.63\n"
          ]
        }
      ]
    },
    {
      "cell_type": "markdown",
      "source": [
        "MSE: 2824535892.24\n",
        "RMSE: 53146.36\n",
        "\n",
        "MSE: 3730695463.93\n",
        "RMSE: 61079.42\n",
        "\n",
        "removendo islands do dataset\n",
        "\n",
        "RMSE: 63990.31"
      ],
      "metadata": {
        "id": "s6j_rE275CTZ"
      }
    },
    {
      "cell_type": "code",
      "source": [
        "from lightgbm import LGBMRegressor\n",
        "\n",
        "regressor = LGBMRegressor(\n",
        "    boosting_type='gbdt',\n",
        "    num_leaves=31,\n",
        "    learning_rate=0.05,\n",
        "    n_estimators=100,\n",
        "    random_state=42\n",
        ")\n",
        "\n",
        "regressor.fit(X_treino, y_treino)\n",
        "y_pred = regressor.predict(X_teste)\n",
        "mse = mean_squared_error(y_teste, y_pred)\n",
        "rmse = mse**(0.5)\n",
        "print(\"MSE: %.2f\" % mse)\n",
        "print(\"RMSE: %.2f\" % rmse)"
      ],
      "metadata": {
        "colab": {
          "base_uri": "https://localhost:8080/"
        },
        "id": "y3AUgwH7Hl01",
        "outputId": "c5176238-1bab-43ae-9c8e-9bd491bcb14f"
      },
      "execution_count": null,
      "outputs": [
        {
          "output_type": "stream",
          "name": "stdout",
          "text": [
            "MSE: 3798980819.81\n",
            "RMSE: 61635.87\n"
          ]
        }
      ]
    },
    {
      "cell_type": "markdown",
      "source": [
        "# **GridSearch**\n",
        "\n",
        "No grid search será testado os parâmetros em comum: n_estimators, max_depth, min_samples_split e min_samples_leaf"
      ],
      "metadata": {
        "id": "z1MvI6KjAmjn"
      }
    },
    {
      "cell_type": "markdown",
      "source": [
        "# Random Forest"
      ],
      "metadata": {
        "id": "c0l0vZsQTOzJ"
      }
    },
    {
      "cell_type": "code",
      "source": [
        "def grid_search_rf(params, reg=RandomForestRegressor(random_state=2)):\n",
        "\n",
        "    grid_reg = GridSearchCV(reg, params, scoring='neg_mean_squared_error', cv=5, n_jobs=-1)\n",
        "\n",
        "    grid_reg.fit(X_treino, y_treino)\n",
        "\n",
        "    best_params = grid_reg.best_params_\n",
        "\n",
        "    print(\"Best params:\", best_params)\n",
        "\n",
        "    best_score = np.sqrt(-grid_reg.best_score_)\n",
        "\n",
        "    print(\"Training score: {:.3f}\".format(best_score))\n",
        "\n",
        "    y_pred = grid_reg.predict(X_teste)\n",
        "\n",
        "    rmse_test = mean_squared_error(y_teste, y_pred)**0.5\n",
        "\n",
        "    print('Test score: {:.3f}'.format(rmse_test))"
      ],
      "metadata": {
        "id": "BW2mKTQrYuis"
      },
      "execution_count": null,
      "outputs": []
    },
    {
      "cell_type": "code",
      "source": [
        "grid_search_rf(params={'max_depth':[None,2,3,4,6,8],'min_samples_leaf':[2,4,6,8], 'n_estimators':[None, 5,10,20,50,100], 'min_samples_split':[None,2,3,4,6,8,10]})"
      ],
      "metadata": {
        "colab": {
          "base_uri": "https://localhost:8080/"
        },
        "id": "0Noby7ImZBjY",
        "outputId": "1de32802-2950-484f-85b9-9211f866bf05"
      },
      "execution_count": null,
      "outputs": [
        {
          "output_type": "stream",
          "name": "stdout",
          "text": [
            "Best params: {'max_depth': None, 'min_samples_leaf': 4, 'min_samples_split': 10, 'n_estimators': 100}\n",
            "Training score: 61456.967\n",
            "Test score: 62342.141\n"
          ]
        }
      ]
    },
    {
      "cell_type": "markdown",
      "source": [
        "Com todas as variaveis menos latitude e longitude\n",
        "\n",
        "Root Mean Square Error:\n",
        "\n",
        "61215.260\n",
        "\n",
        "sem latitude longitude households e total_bedrooms\n",
        "\n",
        "Root Mean Square Error:\n",
        "\n",
        "110878.46620600729\n",
        "\n",
        "tirando o island do dataset\n",
        "\n",
        "63837.927"
      ],
      "metadata": {
        "id": "d2rtmE8TnmCP"
      }
    },
    {
      "cell_type": "markdown",
      "source": [
        "# XGBoost"
      ],
      "metadata": {
        "id": "OlwJONx-fIFv"
      }
    },
    {
      "cell_type": "code",
      "source": [
        "def grid_search_xg(params, reg=XGBRegressor(random_state=2)):\n",
        "\n",
        "    grid_reg = GridSearchCV(reg, params, scoring='neg_mean_squared_error', cv=5, n_jobs=-1)\n",
        "\n",
        "    grid_reg.fit(X_treino, y_treino)\n",
        "\n",
        "    best_params = grid_reg.best_params_\n",
        "\n",
        "    print(\"Best params:\", best_params)\n",
        "\n",
        "    best_score = np.sqrt(-grid_reg.best_score_)\n",
        "\n",
        "    print(\"Training score: {:.3f}\".format(best_score))\n",
        "\n",
        "    y_pred = grid_reg.predict(X_teste)\n",
        "\n",
        "    rmse_test = mean_squared_error(y_teste, y_pred)**0.5\n",
        "\n",
        "    print('Test score: {:.3f}'.format(rmse_test))"
      ],
      "metadata": {
        "id": "D-W6QYDdfQ8E"
      },
      "execution_count": null,
      "outputs": []
    },
    {
      "cell_type": "code",
      "source": [
        "from sklearn.model_selection import GridSearchCV\n",
        "\n",
        "grid_search_xg(params={'max_depth':[None,2,3,4,6,8],'min_samples_leaf':[2,4,6,8], 'n_estimators':[None, 5,10,20,50,100], 'min_samples_split':[None,2,3,4,6,8,10]})"
      ],
      "metadata": {
        "colab": {
          "base_uri": "https://localhost:8080/"
        },
        "id": "7mAmWmAUfWhb",
        "outputId": "8120c786-3f89-4bda-92ca-ca549efb571c"
      },
      "execution_count": null,
      "outputs": [
        {
          "output_type": "stream",
          "name": "stdout",
          "text": [
            "[LightGBM] [Warning] min_data_in_leaf is set with min_samples_leaf=6, min_child_samples=20 will be ignored. Current value: min_data_in_leaf=6\n",
            "Best params: {'max_depth': None, 'min_samples_leaf': 6, 'min_samples_split': None, 'n_estimators': 100}\n",
            "Training score: 60280.950\n",
            "Test score: 60933.241\n"
          ]
        }
      ]
    },
    {
      "cell_type": "markdown",
      "source": [
        "[14:52:30] WARNING: ../src/learner.cc:767:\n",
        "Parameters: { \"min_samples_leaf\" } are not used.\n",
        "\n",
        "Best params: {'min_samples_leaf': 1}\n",
        "Training score: 61740.429\n",
        "Test score: 61488.316\n",
        "\n",
        "removendo island do dataset\n",
        "\n",
        "Training score: 65970.372\n",
        "Test score: 64531.028\n",
        "\n",
        "[19:54:18] WARNING: ../src/learner.cc:767:\n",
        "Parameters: { \"min_samples_leaf\" } are not used.\n",
        "\n",
        "Best params: {'max_depth': 3, 'min_samples_leaf': 1}\n",
        "Training score: 65970.372\n",
        "Test score: 64531.028"
      ],
      "metadata": {
        "id": "OpHTYjUSshXj"
      }
    },
    {
      "cell_type": "markdown",
      "source": [
        "Testando XGBoost com os parametros obtidos"
      ],
      "metadata": {
        "id": "Zxg3mp4F2AkP"
      }
    },
    {
      "cell_type": "code",
      "source": [
        "from xgboost import XGBRegressor\n",
        "classifier = XGBRegressor(max_depth = 3, n_estimators = 200,random_state=42)\n",
        "classifier.fit(X_treino, y_treino)\n",
        "\n",
        "y_pred = classifier.predict(X_teste)\n",
        "\n",
        "import math\n",
        "import numpy as np\n",
        "\n",
        "MSE = np.square(np.subtract(y_teste,y_pred)).mean()\n",
        "\n",
        "RMSE = math.sqrt(MSE)\n",
        "print(\"Root Mean Square Error:\\n\")\n",
        "print(RMSE)"
      ],
      "metadata": {
        "colab": {
          "base_uri": "https://localhost:8080/"
        },
        "id": "E64vnzM514N7",
        "outputId": "7b25c0f8-f99f-4ee2-e84a-cbd4ae07133f"
      },
      "execution_count": null,
      "outputs": [
        {
          "output_type": "stream",
          "name": "stdout",
          "text": [
            "[19:18:24] WARNING: ../src/learner.cc:767: \n",
            "Parameters: { \"min_samples_leaf\" } are not used.\n",
            "\n",
            "Root Mean Square Error:\n",
            "\n",
            "61254.72897821753\n"
          ]
        }
      ]
    },
    {
      "cell_type": "markdown",
      "source": [
        "[18:23:16] WARNING: ../src/learner.cc:767:\n",
        "Parameters: { \"min_samples_leaf\" } are not used.\n",
        "\n",
        "Root Mean Square Error:\n",
        "\n",
        "60268.882082802425"
      ],
      "metadata": {
        "id": "IkGB6BGYv3T8"
      }
    },
    {
      "cell_type": "markdown",
      "source": [
        "# **Light GBM**"
      ],
      "metadata": {
        "id": "_-kSd7476tZ1"
      }
    },
    {
      "cell_type": "code",
      "source": [
        "from lightgbm import LGBMRegressor"
      ],
      "metadata": {
        "id": "f1Rv4qXUDf63"
      },
      "execution_count": null,
      "outputs": []
    },
    {
      "cell_type": "code",
      "source": [
        "def grid_search(params, reg=LGBMRegressor(random_state=2)):\n",
        "\n",
        "    grid_reg = GridSearchCV(reg, params, scoring='neg_mean_squared_error', cv=5, n_jobs=-1)\n",
        "\n",
        "    grid_reg.fit(X_treino, y_treino)\n",
        "\n",
        "    best_params = grid_reg.best_params_\n",
        "\n",
        "    print(\"Best params:\", best_params)\n",
        "\n",
        "    best_score = np.sqrt(-grid_reg.best_score_)\n",
        "\n",
        "    print(\"Training score: {:.3f}\".format(best_score))\n",
        "\n",
        "    y_pred = grid_reg.predict(X_teste)\n",
        "\n",
        "    rmse_test = mean_squared_error(y_teste, y_pred)**0.5\n",
        "\n",
        "    print('Test score: {:.3f}'.format(rmse_test))"
      ],
      "metadata": {
        "id": "ooI0di0u6yAR"
      },
      "execution_count": null,
      "outputs": []
    },
    {
      "cell_type": "code",
      "source": [
        "from sklearn.model_selection import GridSearchCV\n",
        "\n",
        "grid_search(params={'max_depth':[None,2,3,4,6,8],'min_samples_leaf':[2,4,6,8], 'n_estimators':[None, 5,10,20,50,100], 'min_samples_split':[None,2,3,4,6,8,10] })"
      ],
      "metadata": {
        "colab": {
          "base_uri": "https://localhost:8080/"
        },
        "id": "BHgM46j860xs",
        "outputId": "40ffe334-26fd-4bca-e041-cd79ac0c91ef"
      },
      "execution_count": null,
      "outputs": [
        {
          "output_type": "stream",
          "name": "stdout",
          "text": [
            "Best params: {'max_depth': 3, 'n_estimators': 200}\n",
            "Training score: 61750.013\n",
            "Test score: 61773.185\n"
          ]
        }
      ]
    },
    {
      "cell_type": "code",
      "source": [
        "from lightgbm import LGBMRegressor\n",
        "\n",
        "regressor = LGBMRegressor(\n",
        "    boosting_type='gbdt',\n",
        "    min_samples_leaf=6,\n",
        "    max_depth=None,\n",
        "    n_estimators=150\n",
        ")\n",
        "\n",
        "regressor.fit(X_treino, y_treino)\n",
        "y_pred = regressor.predict(X_teste)\n",
        "mse = mean_squared_error(y_teste, y_pred)\n",
        "rmse = mse**(0.5)\n",
        "print(\"MSE: %.2f\" % mse)\n",
        "print(\"RMSE: %.2f\" % rmse)"
      ],
      "metadata": {
        "colab": {
          "base_uri": "https://localhost:8080/"
        },
        "id": "Dv8nvnqYoBaB",
        "outputId": "e94d098a-ca63-4c9c-ee8f-3fabbf05caaf"
      },
      "execution_count": null,
      "outputs": [
        {
          "output_type": "stream",
          "name": "stdout",
          "text": [
            "[LightGBM] [Warning] min_data_in_leaf is set with min_samples_leaf=6, min_child_samples=20 will be ignored. Current value: min_data_in_leaf=6\n",
            "MSE: 3673873491.12\n",
            "RMSE: 60612.49\n"
          ]
        }
      ]
    },
    {
      "cell_type": "markdown",
      "source": [
        "# **Resultados 1**\n",
        "\n",
        "Pelos resultados obtidos pelo grid search notamos que é preciso tomar uma abordagem diferente. Inicialmente, consideramos que a latitude e longitude não eram variáveis numéricas e sim categóricas por representarem um lugar no espaço. Mas como estamos utilizando de árvore de regressão é possível que os modelos consigam utilizar a latitude e longitude em sua forma original para melhor predizer o valor das casas, então a partir daqui iremos utilizar todos os dados do dataset."
      ],
      "metadata": {
        "id": "xLC3ttGlBPIA"
      }
    },
    {
      "cell_type": "code",
      "source": [
        "df3 = df\n",
        "df3[\"total_bedrooms\"] = df3[\"total_bedrooms\"].fillna(df3[\"total_rooms\"] / 5)\n",
        "\n",
        "from sklearn.preprocessing import LabelEncoder\n",
        "\n",
        "label_encoder = LabelEncoder()\n",
        "\n",
        "# Aplicar Label Encoding na variável 'ocean_proximity'\n",
        "df3['ocean_proximity'] = label_encoder.fit_transform(df3['ocean_proximity'])"
      ],
      "metadata": {
        "id": "UnzqrtDzCZCB"
      },
      "execution_count": null,
      "outputs": []
    },
    {
      "cell_type": "code",
      "source": [
        "from sklearn.model_selection import train_test_split\n",
        "\n",
        "X = df3.drop('median_house_value', axis=1)\n",
        "y = df3['median_house_value']\n",
        "\n",
        "X_treino, X_teste,y_treino, y_teste = train_test_split(X,y, test_size=0.2, random_state=42)"
      ],
      "metadata": {
        "id": "u_HpNobgDGij"
      },
      "execution_count": null,
      "outputs": []
    },
    {
      "cell_type": "code",
      "source": [
        "from sklearn.ensemble import RandomForestRegressor\n",
        "import math\n",
        "import numpy as np\n",
        "\n",
        "regressor = RandomForestRegressor(max_depth= None, min_samples_leaf= 4, min_samples_split= 10, n_estimators= 100)\n",
        "regressor.fit(X_treino, y_treino)\n",
        "y_pred = regressor.predict(X_teste)\n",
        "\n",
        "MSE = np.square(np.subtract(y_teste,y_pred)).mean()\n",
        "\n",
        "RMSE = math.sqrt(MSE)\n",
        "print(\"Root Mean Square Error:\\n\")\n",
        "print(RMSE)"
      ],
      "metadata": {
        "colab": {
          "base_uri": "https://localhost:8080/"
        },
        "id": "th_r8uSQDT1m",
        "outputId": "5177f4b7-a09a-4694-aa9c-5f41970a8a0e"
      },
      "execution_count": null,
      "outputs": [
        {
          "output_type": "stream",
          "name": "stdout",
          "text": [
            "Root Mean Square Error:\n",
            "\n",
            "50185.48771020145\n"
          ]
        }
      ]
    },
    {
      "cell_type": "code",
      "source": [
        "from xgboost import XGBRegressor\n",
        "classifier = XGBRegressor()\n",
        "classifier.fit(X_treino, y_treino)\n",
        "y_pred = classifier.predict(X_teste)\n",
        "import math\n",
        "import numpy as np\n",
        "\n",
        "MSE = np.square(np.subtract(y_teste,y_pred)).mean()\n",
        "\n",
        "RMSE = math.sqrt(MSE)\n",
        "print(\"Root Mean Square Error:\\n\")\n",
        "print(RMSE)"
      ],
      "metadata": {
        "colab": {
          "base_uri": "https://localhost:8080/"
        },
        "id": "PNXxRgdIDZaH",
        "outputId": "80df525c-3e63-4420-f816-31f57d7b246b"
      },
      "execution_count": null,
      "outputs": [
        {
          "output_type": "stream",
          "name": "stdout",
          "text": [
            "Root Mean Square Error:\n",
            "\n",
            "47792.667732320915\n"
          ]
        }
      ]
    },
    {
      "cell_type": "code",
      "source": [
        "from lightgbm import LGBMRegressor\n",
        "\n",
        "regressor = LGBMRegressor(\n",
        "    boosting_type='gbdt',\n",
        "    num_leaves=31,\n",
        "    learning_rate=0.05,\n",
        "    n_estimators=100,\n",
        "    random_state=42\n",
        ")\n",
        "\n",
        "regressor.fit(X_treino, y_treino)\n",
        "y_pred = regressor.predict(X_teste)\n",
        "mse = mean_squared_error(y_teste, y_pred)\n",
        "rmse = mse**(0.5)\n",
        "print(\"MSE: %.2f\" % mse)\n",
        "print(\"RMSE: %.2f\" % rmse)"
      ],
      "metadata": {
        "colab": {
          "base_uri": "https://localhost:8080/"
        },
        "id": "TSUOavulDoLb",
        "outputId": "c405901d-c5bd-4c1a-d8c8-941b668e7ec9"
      },
      "execution_count": null,
      "outputs": [
        {
          "output_type": "stream",
          "name": "stdout",
          "text": [
            "MSE: 2542849138.62\n",
            "RMSE: 50426.67\n"
          ]
        }
      ]
    },
    {
      "cell_type": "markdown",
      "source": [
        "# **Resultado 2**"
      ],
      "metadata": {
        "id": "rKYEEHeQhSpY"
      }
    },
    {
      "cell_type": "markdown",
      "source": [
        "Dos modelos o melhor resultado foi obtido com XGBoost com RMSE de:\n",
        "\n",
        "47792.667732320915"
      ],
      "metadata": {
        "id": "d5KdTTk2FBin"
      }
    }
  ]
}